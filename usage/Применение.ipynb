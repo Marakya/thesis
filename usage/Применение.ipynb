{
  "nbformat": 4,
  "nbformat_minor": 0,
  "metadata": {
    "colab": {
      "provenance": [],
      "toc_visible": true
    },
    "kernelspec": {
      "name": "python3",
      "display_name": "Python 3"
    },
    "language_info": {
      "name": "python"
    }
  },
  "cells": [
    {
      "cell_type": "markdown",
      "source": [
        "# Парсер"
      ],
      "metadata": {
        "id": "cbmQhW6xk2ml"
      }
    },
    {
      "cell_type": "markdown",
      "source": [
        "При работе с сылками на статьи с ресурса Arxiv.org"
      ],
      "metadata": {
        "id": "FH4fOgmw8tHP"
      }
    },
    {
      "cell_type": "code",
      "source": [
        "pip install BeautifulSoup4"
      ],
      "metadata": {
        "colab": {
          "base_uri": "https://localhost:8080/"
        },
        "id": "j6g-bQGfUoRO",
        "outputId": "d5875b51-4974-4292-9ea5-f7237a2c0bb3"
      },
      "execution_count": null,
      "outputs": [
        {
          "output_type": "stream",
          "name": "stdout",
          "text": [
            "Requirement already satisfied: BeautifulSoup4 in /usr/local/lib/python3.10/dist-packages (4.12.3)\n",
            "Requirement already satisfied: soupsieve>1.2 in /usr/local/lib/python3.10/dist-packages (from BeautifulSoup4) (2.5)\n"
          ]
        }
      ]
    },
    {
      "cell_type": "code",
      "execution_count": null,
      "metadata": {
        "id": "OQVBnVly-i28"
      },
      "outputs": [],
      "source": [
        "import re\n",
        "from bs4 import BeautifulSoup\n",
        "import requests\n",
        "\n",
        "url = 'https://arxiv.org/abs/2402.15030'"
      ]
    },
    {
      "cell_type": "code",
      "source": [
        "import pandas as pd\n",
        "import pickle"
      ],
      "metadata": {
        "id": "1NSG58I3eSO1"
      },
      "execution_count": 2,
      "outputs": []
    },
    {
      "cell_type": "code",
      "source": [
        "headers = {\n",
        "    \"Accept\": \"text/html,application/xhtml+xml,application/xml;q=0.9,image/avif,image/webp,image/apng,*/*;q=0.8,application/signed-exchange;v=b3;q=0.7\",\n",
        "    \"User-Agent\": \"Mozilla/5.0 (Windows NT 10.0; Win64; x64) AppleWebKit/537.36 (KHTML, like Gecko) Chrome/121.0.0.0 Safari/537.36 OPR/107.0.0.0\"\n",
        "}"
      ],
      "metadata": {
        "id": "jW3s-vaaYQ04"
      },
      "execution_count": null,
      "outputs": []
    },
    {
      "cell_type": "code",
      "source": [
        "req = requests.get(url=url, headers=headers)"
      ],
      "metadata": {
        "id": "_IBVLzK1UzkG"
      },
      "execution_count": null,
      "outputs": []
    },
    {
      "cell_type": "code",
      "source": [
        "src = req.text"
      ],
      "metadata": {
        "id": "8G0hXIZLVDKu"
      },
      "execution_count": null,
      "outputs": []
    },
    {
      "cell_type": "code",
      "source": [
        "soup = BeautifulSoup(src, \"lxml\")"
      ],
      "metadata": {
        "colab": {
          "base_uri": "https://localhost:8080/"
        },
        "id": "unJSincUk2Gw",
        "outputId": "95329e4e-b716-48f6-f616-105776e4390d"
      },
      "execution_count": null,
      "outputs": [
        {
          "output_type": "stream",
          "name": "stderr",
          "text": [
            "<ipython-input-7-7e7a0a7b1572>:1: XMLParsedAsHTMLWarning: It looks like you're parsing an XML document using an HTML parser. If this really is an HTML document (maybe it's XHTML?), you can ignore or filter this warning. If it's XML, you should know that using an XML parser will be more reliable. To parse this document as XML, make sure you have the lxml package installed, and pass the keyword argument `features=\"xml\"` into the BeautifulSoup constructor.\n",
            "  soup = BeautifulSoup(src, \"lxml\")\n"
          ]
        }
      ]
    },
    {
      "cell_type": "code",
      "source": [
        "abstracts = soup.find_all(class_='abstract mathjax')"
      ],
      "metadata": {
        "id": "oiB5O-NgZtuP"
      },
      "execution_count": null,
      "outputs": []
    },
    {
      "cell_type": "code",
      "source": [
        "list_abstracts = []\n",
        "for item in abstracts:\n",
        "  el = item.text\n",
        "  el  = re.sub(r\"\\n\",\"\", el)\n",
        "  el  = re.sub(r\"    \",\"\", el)\n",
        "  el  = re.sub(r\"Abstract:\",\"\", el)\n",
        "  list_abstracts.append(el)"
      ],
      "metadata": {
        "id": "804zS__5ZtwX"
      },
      "execution_count": null,
      "outputs": []
    },
    {
      "cell_type": "code",
      "source": [
        "list_abstracts"
      ],
      "metadata": {
        "colab": {
          "base_uri": "https://localhost:8080/"
        },
        "id": "jeAbui-6vkV2",
        "outputId": "4cb51596-7501-41ad-eb20-866ea2e27d3a"
      },
      "execution_count": null,
      "outputs": [
        {
          "output_type": "execute_result",
          "data": {
            "text/plain": [
              "['Multi-gene panel testing allows efficient detection of pathogenic variants in cancer susceptibility genes including moderate-risk genes such as ATM and PALB2. A growing number of studies examine the risk of breast cancer (BC) conferred by pathogenic variants of such genes. A meta-analysis combining the reported risk estimates can provide an overall age-specific risk of developing BC, i.e., penetrance for a gene. However, estimates reported by case-control studies often suffer from ascertainment bias. Currently there are no methods available to adjust for such ascertainment bias in this setting. We consider a Bayesian random-effects meta-analysis method that can synthesize different types of risk measures and extend it to incorporate studies with ascertainment bias. This is achieved by introducing a bias term in the model and assigning appropriate priors. We validate the method through a simulation study and apply it to estimate BC penetrance for carriers of pathogenic variants of ATM and PALB2 genes. Our simulations show that the proposed method results in more accurate and precise penetrance estimates compared to when no adjustment is made for ascertainment bias or when such biased studies are discarded from the analysis. The estimated overall BC risk for individuals with pathogenic variants in (1) ATM is 5.77% (3.22%-9.67%) by age 50 and 26.13% (20.31%-32.94%) by age 80; (2) PALB2 is 12.99% (6.48%-22.23%) by age 50 and 44.69% (34.40%-55.80%) by age 80. The proposed method allows for meta-analyses to include studies with ascertainment bias resulting in a larger number of studies included and thereby more robust estimates.']"
            ]
          },
          "metadata": {},
          "execution_count": 10
        }
      ]
    },
    {
      "cell_type": "code",
      "source": [
        "titles = soup.find_all(class_='title mathjax')"
      ],
      "metadata": {
        "id": "B1YSyij4xclY"
      },
      "execution_count": null,
      "outputs": []
    },
    {
      "cell_type": "code",
      "source": [
        "list_titles = []\n",
        "for item in titles:\n",
        "  el = item.text\n",
        "  el  = re.sub(r\"\\n\",\"\", el)\n",
        "  el  = re.sub(r\"Title:\",\"\", el)\n",
        "  list_titles.append(el)"
      ],
      "metadata": {
        "id": "gtPCmjf5xclY"
      },
      "execution_count": null,
      "outputs": []
    },
    {
      "cell_type": "code",
      "source": [
        "list_titles"
      ],
      "metadata": {
        "colab": {
          "base_uri": "https://localhost:8080/"
        },
        "outputId": "a6c39320-1d56-418c-e3d4-784d17da0d48",
        "id": "pP0LAIaJxclZ"
      },
      "execution_count": null,
      "outputs": [
        {
          "output_type": "execute_result",
          "data": {
            "text/plain": [
              "['Adjusting for Ascertainment Bias in Meta-Analysis of Penetrance for Cancer Risk']"
            ]
          },
          "metadata": {},
          "execution_count": 49
        }
      ]
    },
    {
      "cell_type": "code",
      "source": [
        "list_labels = [0]*len(list_titles)"
      ],
      "metadata": {
        "id": "cBWmUMCry7F_"
      },
      "execution_count": null,
      "outputs": []
    },
    {
      "cell_type": "code",
      "source": [
        "list_labels"
      ],
      "metadata": {
        "colab": {
          "base_uri": "https://localhost:8080/"
        },
        "id": "fUm91U4RzBaT",
        "outputId": "ba07580a-7595-485f-aa37-c71d041a2b10"
      },
      "execution_count": null,
      "outputs": [
        {
          "output_type": "execute_result",
          "data": {
            "text/plain": [
              "[0]"
            ]
          },
          "metadata": {},
          "execution_count": 61
        }
      ]
    },
    {
      "cell_type": "markdown",
      "source": [
        "Запись данных в один датасет"
      ],
      "metadata": {
        "id": "F78ybw7082nm"
      }
    },
    {
      "cell_type": "code",
      "source": [
        "df = pd.DataFrame(list(zip(list_titles, list_abstracts, list_labels, list_links)), columns = ['Название', 'Абстракт', 'Метка', 'Ссылка'])"
      ],
      "metadata": {
        "id": "7zfYsT1cx0Ig"
      },
      "execution_count": null,
      "outputs": []
    },
    {
      "cell_type": "markdown",
      "source": [
        "# Эксплуатация"
      ],
      "metadata": {
        "id": "s1m0Pb7Lk6Rd"
      }
    },
    {
      "cell_type": "markdown",
      "source": [
        "## Загрузка и предобработка данных"
      ],
      "metadata": {
        "id": "tAZoxh8g_QeL"
      }
    },
    {
      "cell_type": "code",
      "source": [
        "from nltk.tokenize import word_tokenize\n",
        "from sklearn.preprocessing import LabelEncoder"
      ],
      "metadata": {
        "id": "_kMVUZv2Y5Jh"
      },
      "execution_count": null,
      "outputs": []
    },
    {
      "cell_type": "markdown",
      "source": [
        "В качестве набора данных используются данные медицинских статей, полученные с платформы Arxiv.org\n",
        "\n",
        "\n",
        "[Ссылка](https://www.kaggle.com/datasets/ekaterinamayatskaya/medical-articles)"
      ],
      "metadata": {
        "id": "7J2XTaEYJRv6"
      }
    },
    {
      "cell_type": "code",
      "source": [
        "df = pd.read_pickle('df.pkl')"
      ],
      "metadata": {
        "id": "-HINulpIymQk"
      },
      "execution_count": null,
      "outputs": []
    },
    {
      "cell_type": "code",
      "execution_count": null,
      "metadata": {
        "id": "LJpvQV1ZymQl"
      },
      "outputs": [],
      "source": [
        "df =  df[['Абстракт', 'Метка']]"
      ]
    },
    {
      "cell_type": "code",
      "source": [
        "label_encoder = LabelEncoder()\n",
        "df['Метка'] = label_encoder.fit_transform(df['Метка'])"
      ],
      "metadata": {
        "id": "s2M40FfJY5Ji"
      },
      "execution_count": null,
      "outputs": []
    },
    {
      "cell_type": "markdown",
      "source": [
        "Оценка длины корпуса текстов"
      ],
      "metadata": {
        "id": "fpo_9NqOJfmZ"
      }
    },
    {
      "cell_type": "code",
      "source": [
        "df[\"length\"] = df[\"Абстракт\"].apply(lambda x : len(x.split()))\n",
        "\n",
        "print(\"Train Length Stat\")\n",
        "print(df[\"length\"].describe())"
      ],
      "metadata": {
        "id": "2UDyf8Wba35S",
        "colab": {
          "base_uri": "https://localhost:8080/"
        },
        "outputId": "eff99b70-a0f5-4e44-c159-546e238b10af"
      },
      "execution_count": null,
      "outputs": [
        {
          "output_type": "stream",
          "name": "stdout",
          "text": [
            "Train Length Stat\n",
            "count    3795.000000\n",
            "mean      180.003162\n",
            "std        60.718983\n",
            "min        18.000000\n",
            "25%       139.000000\n",
            "50%       179.000000\n",
            "75%       223.500000\n",
            "max       685.000000\n",
            "Name: length, dtype: float64\n"
          ]
        }
      ]
    },
    {
      "cell_type": "markdown",
      "source": [
        "Максимальная длина текста в корпусе 658 токенов, при ограничении модели BERT 512 токенов"
      ],
      "metadata": {
        "id": "fECu-017Jk6B"
      }
    },
    {
      "cell_type": "code",
      "source": [
        "df.reset_index(drop=True, inplace=True)"
      ],
      "metadata": {
        "id": "ja96H7Vizigl"
      },
      "execution_count": null,
      "outputs": []
    },
    {
      "cell_type": "markdown",
      "source": [
        "Сохранение текстов менее 512 токенов в отдельный датасет"
      ],
      "metadata": {
        "id": "tlBo1RMuJw5J"
      }
    },
    {
      "cell_type": "code",
      "source": [
        "df_less=df\n",
        "for i in range(len(df[\"Абстракт\"])):\n",
        "    if df[\"length\"][i] > 510:\n",
        "        # print(i)\n",
        "        df_less = df_less.drop(index= i)"
      ],
      "metadata": {
        "id": "6E2dcEYRd8By",
        "colab": {
          "base_uri": "https://localhost:8080/"
        },
        "outputId": "35d93a4b-a3a5-4305-d986-98eaf1f59696"
      },
      "execution_count": null,
      "outputs": [
        {
          "output_type": "stream",
          "name": "stdout",
          "text": [
            "503\n",
            "780\n",
            "1103\n",
            "3065\n"
          ]
        }
      ]
    },
    {
      "cell_type": "markdown",
      "source": [
        "Сохранение текстов более 512 токенов в отдельный датасет"
      ],
      "metadata": {
        "id": "vEK9uWndJ9A8"
      }
    },
    {
      "cell_type": "code",
      "source": [
        "df_more=df\n",
        "for i in range(len(df[\"Абстракт\"])):\n",
        "    if df[\"length\"][i] < 510:\n",
        "        df_more = df_more.drop(index= i)"
      ],
      "metadata": {
        "id": "EY_QQsnYeK43"
      },
      "execution_count": null,
      "outputs": []
    },
    {
      "cell_type": "markdown",
      "source": [
        "## Работа с текстами менее 512 токенов"
      ],
      "metadata": {
        "id": "z0zikyizi_ny"
      }
    },
    {
      "cell_type": "markdown",
      "source": [
        "### Кодировка текста"
      ],
      "metadata": {
        "id": "OwL2IHAbFu5p"
      }
    },
    {
      "cell_type": "markdown",
      "source": [
        "Функция случайного выбора батча"
      ],
      "metadata": {
        "id": "gvnyRA48MtGZ"
      }
    },
    {
      "cell_type": "code",
      "metadata": {
        "id": "9-XH-onI0npK"
      },
      "source": [
        "def good_update_interval(total_iters, num_desired_updates):\n",
        "    '''\n",
        "        Эта функция пытается выбрать интеллектуальный интервал обновления выбора батча\n",
        "        на основе величины общего количества итераций.\n",
        "\n",
        "        Параметры:\n",
        "            `total_iters` - количество итераций в цикле for.\n",
        "            `num_desired_updates` - сколько раз мы хотим видеть обновление в течение цикла for.\n",
        "    '''\n",
        "    # Разделить общее количество итераций на желаемое количество обновлений.\n",
        "    # Получится не очень красиво число\n",
        "    exact_interval = total_iters / num_desired_updates\n",
        "\n",
        "\n",
        "    # Чтобы определить величину, до которой нужно округлить, найдите величину итогового значения,\n",
        "    # а затем уменьшите ее на одну величину.\n",
        "\n",
        "    # Получите порядок величины от общего числа.\n",
        "    order_of_mag = len(str(total_iters)) - 1\n",
        "\n",
        "    # Интервал обновления должен быть округлен на порядок меньше.\n",
        "    round_mag = order_of_mag - 1\n",
        "\n",
        "    # Округлить в меньшую сторону и преобразовать в int.\n",
        "    update_interval = int(round(exact_interval, -round_mag))\n",
        "\n",
        "    # Не допускать, чтобы интервал был равен нулю!\n",
        "    if update_interval == 0:\n",
        "        update_interval = 1\n",
        "\n",
        "    return update_interval"
      ],
      "execution_count": null,
      "outputs": []
    },
    {
      "cell_type": "code",
      "source": [
        "import time\n",
        "import datetime\n",
        "\n",
        "def format_time(elapsed):\n",
        "    '''\n",
        "    Принимает время в секундах и возвращает строку чч:мм:сс\n",
        "    '''\n",
        "    # Округлить до ближайшей секунды.\n",
        "    elapsed_rounded = int(round((elapsed)))\n",
        "\n",
        "    # Формат вывода hh:mm:ss\n",
        "    return str(datetime.timedelta(seconds=elapsed_rounded))"
      ],
      "metadata": {
        "id": "IgB7i4sx0npL"
      },
      "execution_count": null,
      "outputs": []
    },
    {
      "cell_type": "markdown",
      "source": [
        "Загрузка токенизатора и модели BERT, в качестве базовой модели взят трансформер предобученный на медицинских статьях"
      ],
      "metadata": {
        "id": "dBZSzu41P9zL"
      }
    },
    {
      "cell_type": "code",
      "source": [
        "from transformers import BertTokenizer\n",
        "\n",
        "tokenizer = BertTokenizer.from_pretrained('bert-base-uncased', do_lower_case=True)"
      ],
      "metadata": {
        "colab": {
          "base_uri": "https://localhost:8080/"
        },
        "outputId": "840e04e0-63f9-4edb-b32a-27bf951b1bce",
        "id": "HWF2EbRVbQ5n"
      },
      "execution_count": null,
      "outputs": [
        {
          "output_type": "stream",
          "name": "stderr",
          "text": [
            "/usr/local/lib/python3.10/dist-packages/huggingface_hub/utils/_token.py:88: UserWarning: \n",
            "The secret `HF_TOKEN` does not exist in your Colab secrets.\n",
            "To authenticate with the Hugging Face Hub, create a token in your settings tab (https://huggingface.co/settings/tokens), set it as secret in your Google Colab and restart your session.\n",
            "You will be able to reuse this secret in all of your notebooks.\n",
            "Please note that authentication is recommended but still optional to access public models or datasets.\n",
            "  warnings.warn(\n"
          ]
        }
      ]
    },
    {
      "cell_type": "code",
      "source": [
        "from transformers import  BertModel\n",
        "\n",
        "model = BertModel.from_pretrained('bert-base-uncased', output_hidden_states = True)"
      ],
      "metadata": {
        "id": "xu8J7-NVjVs9"
      },
      "execution_count": null,
      "outputs": []
    },
    {
      "cell_type": "markdown",
      "source": [
        "Модели необходимо указать устройство для проведения всех математических операций"
      ],
      "metadata": {
        "id": "kcbB2NyGQcLp"
      }
    },
    {
      "cell_type": "code",
      "source": [
        "device = torch.device(\"cuda\") if torch.cuda.is_available() else torch.device(\"cpu\")\n",
        "model.to(device)\n",
        "print('  GPU:', torch.cuda.get_device_name(0))\n"
      ],
      "metadata": {
        "colab": {
          "base_uri": "https://localhost:8080/"
        },
        "outputId": "b717db6a-7583-4342-893e-39b4f6ebcb11",
        "id": "Vj16UefmjVtJ"
      },
      "execution_count": null,
      "outputs": [
        {
          "output_type": "stream",
          "name": "stdout",
          "text": [
            "  GPU: Tesla T4\n"
          ]
        }
      ]
    },
    {
      "cell_type": "markdown",
      "source": [
        "Выделение меток, текстов и максимальной длины"
      ],
      "metadata": {
        "id": "V2kfWZdfQvXL"
      }
    },
    {
      "cell_type": "code",
      "source": [
        "labels = df_less['Метка'].to_numpy()"
      ],
      "metadata": {
        "id": "OhnTNrO0fAm5"
      },
      "execution_count": null,
      "outputs": []
    },
    {
      "cell_type": "code",
      "source": [
        "corpus = df_less['Абстракт'].to_numpy()"
      ],
      "metadata": {
        "id": "d5DXvXbrfAm6"
      },
      "execution_count": null,
      "outputs": []
    },
    {
      "cell_type": "code",
      "source": [
        "max_len = df_less[\"length\"].max()"
      ],
      "metadata": {
        "id": "TFKSxli0bQ5n"
      },
      "execution_count": null,
      "outputs": []
    },
    {
      "cell_type": "markdown",
      "source": [
        "Функция формирования батчей, описанным методом"
      ],
      "metadata": {
        "id": "XIva-TaeQ3Pk"
      }
    },
    {
      "cell_type": "code",
      "source": [
        "def make_smart_batches(text_samples, labels, batch_size):\n",
        "    '''\n",
        "    Эта функция объединяет все необходимые шаги для приготовления батчей.\n",
        "    '''\n",
        "\n",
        "    print('Creating Smart Batches from {:,} examples with batch size {:,}...\\n'.format(len(text_samples), batch_size))\n",
        "\n",
        "    # =========================\n",
        "    #   Токенизация & Усечение\n",
        "    # =========================\n",
        "\n",
        "    full_input_ids = []\n",
        "\n",
        "    # Токенизация всех сэмплов\n",
        "    print('Tokenizing {:,} samples...'.format(len(labels)))\n",
        "\n",
        "    # Выбрать интервал обновления батчей\n",
        "    update_interval = good_update_interval(total_iters=len(labels), num_desired_updates=10)\n",
        "\n",
        "    # Для каждого тренировочного сэмпла проводим токенизацию\n",
        "    for text in text_samples:\n",
        "\n",
        "        # Отчет о прогрессе\n",
        "        if ((len(full_input_ids) % update_interval) == 0):\n",
        "            print('  Tokenized {:,} samples.'.format(len(full_input_ids)))\n",
        "\n",
        "        # Токенизация\n",
        "        input_ids = tokenizer.encode(text=text,              # Текст для кодировки\n",
        "                                    add_special_tokens=True, # Добавить специальные токены\n",
        "                                    max_length=max_len,      # Максимальная длина обрезания текста\n",
        "                                    truncation=True,         # Маркер необходимо ли усечение\n",
        "                                    padding=False)           # Маркер необходим ли паддинг\n",
        "\n",
        "        # Добавляем результат в список\n",
        "        full_input_ids.append(input_ids)\n",
        "\n",
        "    print('DONE.')\n",
        "    print('{:>10,} samples\\n'.format(len(full_input_ids)))\n",
        "\n",
        "    # =========================\n",
        "    #      Выбор батчей\n",
        "    # =========================\n",
        "\n",
        "    # Отсортируем два списка вместе по длине входной последовательности.\n",
        "    samples = sorted(zip(full_input_ids, labels), key=lambda x: len(x[0]))\n",
        "\n",
        "    print('{:>10,} samples after sorting\\n'.format(len(samples)))\n",
        "\n",
        "    import random\n",
        "\n",
        "    # Список батчей, которые мы создадим.\n",
        "    batch_ordered_sentences = []\n",
        "    batch_ordered_labels = []\n",
        "\n",
        "    print('Creating batches of size {:}...'.format(batch_size))\n",
        "\n",
        "    # Выберите интервал обновления батчей\n",
        "    update_interval = good_update_interval(total_iters=len(samples), num_desired_updates=10)\n",
        "\n",
        "    # Проходимся по всем сэмплам\n",
        "    while len(samples) > 0:\n",
        "\n",
        "        # Вывод прогресса\n",
        "        if ((len(batch_ordered_sentences) % update_interval) == 0 \\\n",
        "            and not len(batch_ordered_sentences) == 0):\n",
        "            print('  Selected {:,} batches.'.format(len(batch_ordered_sentences)))\n",
        "\n",
        "        # `to_take` - это фактический размер партии. Он будет `batch_size` до тех пор, пока\n",
        "        # мы не дойдем до последней партии, которая может быть меньше.\n",
        "        to_take = min(batch_size, len(samples))\n",
        "\n",
        "        # Выберите случайный индекс в списке оставшихся батчей, чтобы проводить\n",
        "        # отбор случайно\n",
        "        select = random.randint(0, len(samples) - to_take)\n",
        "\n",
        "        # Выберите непрерыную партию батчей начиная с `select`.\n",
        "        #print(\"Selecting batch from {:} to {:}\".format(select, select+to_take))\n",
        "        batch = samples[select:(select + to_take)]\n",
        "\n",
        "        #print(\"Batch length:\", len(batch))\n",
        "\n",
        "        # Каждый образец представляет собой кортеж - разделите их на части, чтобы создать отдельный список\n",
        "        # последовательностей текста и список меток для этого пакета.\n",
        "        batch_ordered_sentences.append([s[0] for s in batch])\n",
        "        batch_ordered_labels.append([s[1] for s in batch])\n",
        "\n",
        "        # Удаляем из списка уже использованные батчи\n",
        "        del samples[select:select + to_take]\n",
        "\n",
        "    print('\\n  DONE - Selected {:,} batches.\\n'.format(len(batch_ordered_sentences)))\n",
        "\n",
        "    # =========================\n",
        "    #        Добавка паддинга\n",
        "    # =========================\n",
        "\n",
        "    print('Padding out sequences within each batch...')\n",
        "\n",
        "    py_inputs = []\n",
        "    py_attn_masks = []\n",
        "    py_labels = []\n",
        "    lab=[]\n",
        "    # Для каждого батча..\n",
        "    for (batch_inputs, batch_labels) in zip(batch_ordered_sentences, batch_ordered_labels):\n",
        "\n",
        "        # Новая версия батча, на этот раз с дополненными последовательностями до максимальной длины, а также\n",
        "        # с маской внимания.\n",
        "        batch_padded_inputs = []\n",
        "        batch_attn_masks = []\n",
        "\n",
        "        # Сначала найдите самый длинный образец в батче.\n",
        "        # Обратите внимание, что в настоящее время последовательности содержат специальные токены!\n",
        "        max_size = max([len(sen) for sen in batch_inputs])\n",
        "\n",
        "        # Для каждого текста в батче\n",
        "        for sen in batch_inputs:\n",
        "\n",
        "            # Сколько специальных токенов необходимо добавить\n",
        "            num_pads = max_size - len(sen)\n",
        "\n",
        "            # Добавьте токены заполнения `num_pads` в конец последовательности.\n",
        "            padded_input = sen + [tokenizer.pad_token_id]*num_pads\n",
        "\n",
        "            # Определить маску внимания, это - `1` для реального токена\n",
        "            # и - `0` для специального токена\n",
        "            attn_mask = [1] * len(sen) + [0] * num_pads\n",
        "\n",
        "            # Добавить результат в список\n",
        "            batch_padded_inputs.append(padded_input)\n",
        "            batch_attn_masks.append(attn_mask)\n",
        "\n",
        "        # В каждом батче был проведен паддинг, поэтому нам нужно сохранить этот обновленный пакет.\n",
        "        # Нам также нужно, чтобы входные данные были тензорами PyTorch.\n",
        "        py_inputs.append(torch.tensor(batch_padded_inputs))\n",
        "        py_attn_masks.append(torch.tensor(batch_attn_masks))\n",
        "        py_labels.append(torch.tensor(batch_labels))\n",
        "        lab.append(batch_labels)\n",
        "\n",
        "\n",
        "    print('  DONE.')\n",
        "\n",
        "    # Возвращаем данные\n",
        "    return (py_inputs, py_attn_masks, py_labels, lab)"
      ],
      "metadata": {
        "id": "GKJqTyyF1SO0"
      },
      "execution_count": null,
      "outputs": []
    },
    {
      "cell_type": "markdown",
      "source": [
        "Гиперпараметры"
      ],
      "metadata": {
        "id": "A95Gm0eaR8v0"
      }
    },
    {
      "cell_type": "code",
      "source": [
        "batch_size=8"
      ],
      "metadata": {
        "id": "d7YT3DgXR8MT"
      },
      "execution_count": null,
      "outputs": []
    },
    {
      "cell_type": "markdown",
      "source": [
        "Функция, производящая взятие среднего для вектора каждого слова"
      ],
      "metadata": {
        "id": "9z1egYZPRGP7"
      }
    },
    {
      "cell_type": "markdown",
      "source": [
        "Слой last_hidden_state выдает вектор размерности 3, где для каждого слова формируется вектор размерности 768, работа с такими данными требует больших вычислительных ресурсов. Для решения данной проблемы необходимо взять среднее значение для векторов слов. На выходе получаем, что каждое слово характеризуется одним числом, каждый текст - это вектор размерности 768"
      ],
      "metadata": {
        "id": "fJpb6jcGRP5J"
      }
    },
    {
      "cell_type": "code",
      "source": [
        "def mean_pooling(model_output, attention_mask):\n",
        "    token_embeddings = model_output['last_hidden_state']\n",
        "    input_mask_expanded = attention_mask.unsqueeze(-1).expand(token_embeddings.size()).float()\n",
        "    sum_embeddings = torch.sum(token_embeddings * input_mask_expanded, 1)\n",
        "    sum_mask = torch.clamp(input_mask_expanded.sum(1), min=1e-9)\n",
        "    return sum_embeddings / sum_mask"
      ],
      "metadata": {
        "id": "6P0VR4Vc1SO1"
      },
      "execution_count": null,
      "outputs": []
    },
    {
      "cell_type": "markdown",
      "source": [
        "Токенизация текста"
      ],
      "metadata": {
        "id": "nrGD3ryUR_Qs"
      }
    },
    {
      "cell_type": "code",
      "source": [
        "(py_inputs, py_attn_masks, py_labels, labe) = make_smart_batches(corpus,labels, batch_size)"
      ],
      "metadata": {
        "colab": {
          "base_uri": "https://localhost:8080/"
        },
        "outputId": "044fb71d-feef-478b-c145-f88303ee359d",
        "id": "kK5JEYAb1SO2"
      },
      "execution_count": null,
      "outputs": [
        {
          "output_type": "stream",
          "name": "stdout",
          "text": [
            "Creating Smart Batches from 3,791 examples with batch size 8...\n",
            "\n",
            "Tokenizing 3,791 samples...\n",
            "  Tokenized 0 samples.\n",
            "  Tokenized 400 samples.\n",
            "  Tokenized 800 samples.\n",
            "  Tokenized 1,200 samples.\n",
            "  Tokenized 1,600 samples.\n",
            "  Tokenized 2,000 samples.\n",
            "  Tokenized 2,400 samples.\n",
            "  Tokenized 2,800 samples.\n",
            "  Tokenized 3,200 samples.\n",
            "  Tokenized 3,600 samples.\n",
            "DONE.\n",
            "     3,791 samples\n",
            "\n",
            "     3,791 samples after sorting\n",
            "\n",
            "Creating batches of size 8...\n",
            "  Selected 400 batches.\n",
            "\n",
            "  DONE - Selected 474 batches.\n",
            "\n",
            "Padding out sequences within each batch...\n",
            "  DONE.\n"
          ]
        }
      ]
    },
    {
      "cell_type": "markdown",
      "source": [
        "Получение векторных представлений корпуса текстов"
      ],
      "metadata": {
        "id": "UAaQfUdASHWq"
      }
    },
    {
      "cell_type": "code",
      "source": [
        "\n",
        "model.eval()\n",
        "\n",
        "lab=torch.Tensor().to(device)\n",
        "embeddings = torch.Tensor().to(device)\n",
        "\n",
        "# Выбор интервала обновления\n",
        "update_interval = good_update_interval(total_iters=len(py_inputs), num_desired_updates=16)\n",
        "\n",
        "# Фиксирование времени начала\n",
        "t0 = time.time()\n",
        "\n",
        "# Переведите модель в режим оценки\n",
        "model.eval()\n",
        "latency = []\n",
        "# Проходимся по каждому батчу\n",
        "for step in range(0, len(py_inputs)):\n",
        "\n",
        "    # Вывод прогресса для каждый 100 батчей\n",
        "    if step % update_interval == 0 and not step == 0:\n",
        "\n",
        "        elapsed = format_time(time.time() - t0)\n",
        "\n",
        "        steps_per_sec = (time.time() - t0) / step\n",
        "        remaining_sec = steps_per_sec * (len(py_inputs) - step)\n",
        "        remaining = format_time(remaining_sec)\n",
        "\n",
        "\n",
        "        print('  Batch {:>7,}  of  {:>7,}.    Elapsed: {:}.  Remaining: {:}'.format(step, len(py_inputs), elapsed, remaining))\n",
        "\n",
        "    # Передача данных на GPU\n",
        "    b_input_ids = py_inputs[step].to(device)\n",
        "    b_input_mask = py_attn_masks[step].to(device)\n",
        "    b_labels = py_labels[step].to(device)\n",
        "\n",
        "\n",
        "    with torch.no_grad():\n",
        "        start = time.time()\n",
        "        result = model(b_input_ids)\n",
        "        latency.append(time.time() - start)\n",
        "        embeddings = torch.cat([embeddings, mean_pooling(result, b_input_mask)])\n",
        "embeddings = embeddings.cpu().numpy()\n",
        "print(\"PyTorch {} Inference time = {} ms\".format(device.type, format(sum(latency) * 1000 / len(latency), '.2f')))"
      ],
      "metadata": {
        "colab": {
          "base_uri": "https://localhost:8080/"
        },
        "outputId": "b925c38e-2bb7-4661-ec71-50b60558889f",
        "id": "4OLsuQzj1SO2"
      },
      "execution_count": null,
      "outputs": [
        {
          "output_type": "stream",
          "name": "stderr",
          "text": [
            "We strongly recommend passing in an `attention_mask` since your input_ids may be padded. See https://huggingface.co/docs/transformers/troubleshooting#incorrect-output-when-padding-tokens-arent-masked.\n"
          ]
        },
        {
          "output_type": "stream",
          "name": "stdout",
          "text": [
            "  Batch      30  of      474.    Elapsed: 0:00:05.  Remaining: 0:01:20\n",
            "  Batch      60  of      474.    Elapsed: 0:00:09.  Remaining: 0:01:04\n",
            "  Batch      90  of      474.    Elapsed: 0:00:13.  Remaining: 0:00:57\n",
            "  Batch     120  of      474.    Elapsed: 0:00:17.  Remaining: 0:00:51\n",
            "  Batch     150  of      474.    Elapsed: 0:00:21.  Remaining: 0:00:46\n",
            "  Batch     180  of      474.    Elapsed: 0:00:25.  Remaining: 0:00:41\n",
            "  Batch     210  of      474.    Elapsed: 0:00:30.  Remaining: 0:00:37\n",
            "  Batch     240  of      474.    Elapsed: 0:00:34.  Remaining: 0:00:33\n",
            "  Batch     270  of      474.    Elapsed: 0:00:38.  Remaining: 0:00:29\n",
            "  Batch     300  of      474.    Elapsed: 0:00:42.  Remaining: 0:00:24\n",
            "  Batch     330  of      474.    Elapsed: 0:00:46.  Remaining: 0:00:20\n",
            "  Batch     360  of      474.    Elapsed: 0:00:50.  Remaining: 0:00:16\n",
            "  Batch     390  of      474.    Elapsed: 0:00:53.  Remaining: 0:00:12\n",
            "  Batch     420  of      474.    Elapsed: 0:00:58.  Remaining: 0:00:07\n",
            "  Batch     450  of      474.    Elapsed: 0:01:02.  Remaining: 0:00:03\n",
            "PyTorch cuda Inference time = 15.90 ms\n"
          ]
        }
      ]
    },
    {
      "cell_type": "markdown",
      "source": [
        "### Классификация"
      ],
      "metadata": {
        "id": "avaZG2ixTRGR"
      }
    },
    {
      "cell_type": "code",
      "source": [
        "import keras"
      ],
      "metadata": {
        "id": "7B_aHAL91R85"
      },
      "execution_count": null,
      "outputs": []
    },
    {
      "cell_type": "code",
      "source": [
        "labe_list = [item for sublist in labe for item in sublist]"
      ],
      "metadata": {
        "id": "YAaFgWaVYRA6"
      },
      "execution_count": null,
      "outputs": []
    },
    {
      "cell_type": "markdown",
      "source": [
        "Загрузка предобученной реккурентой сети"
      ],
      "metadata": {
        "id": "iwdMhOoUTkNE"
      }
    },
    {
      "cell_type": "code",
      "source": [
        "model_lstm_batch = keras.models.load_model('model_lstm_batch.keras')"
      ],
      "metadata": {
        "id": "wacvIKYmYRDc"
      },
      "execution_count": null,
      "outputs": []
    },
    {
      "cell_type": "code",
      "source": [
        "emb=np.array(embeddings)"
      ],
      "metadata": {
        "id": "PDmu-suiZxXO"
      },
      "execution_count": null,
      "outputs": []
    },
    {
      "cell_type": "markdown",
      "source": [
        "Добавление третьего временного измерения. Это необходимо для подачи данных в рекурентную нейронную сеть!"
      ],
      "metadata": {
        "id": "UwiZWzn1TpV1"
      }
    },
    {
      "cell_type": "code",
      "source": [
        "emb = np.expand_dims(emb, 1)"
      ],
      "metadata": {
        "id": "nCGj9Lm9ZxXO"
      },
      "execution_count": null,
      "outputs": []
    },
    {
      "cell_type": "code",
      "source": [
        "labe_list = np.asarray(labe_list)"
      ],
      "metadata": {
        "id": "BWXWhsafZxXO"
      },
      "execution_count": null,
      "outputs": []
    },
    {
      "cell_type": "markdown",
      "source": [
        "Получение предсказаний"
      ],
      "metadata": {
        "id": "egEj3CnjUKqt"
      }
    },
    {
      "cell_type": "code",
      "execution_count": null,
      "metadata": {
        "colab": {
          "base_uri": "https://localhost:8080/"
        },
        "outputId": "ea6af0ec-d78d-49c5-ba56-44efb25562f3",
        "id": "hesHdrl_ZxXQ"
      },
      "outputs": [
        {
          "output_type": "stream",
          "name": "stdout",
          "text": [
            "8/8 [==============================] - 1s 9ms/step\n"
          ]
        }
      ],
      "source": [
        "y_pred = model_lstm_batch.predict(emb, batch_size=500, verbose=1)\n",
        "y_pred_b = np.argmax(y_pred, axis=1)"
      ]
    },
    {
      "cell_type": "code",
      "source": [
        "df_less['Метка'] = y_pred_b"
      ],
      "metadata": {
        "id": "HGjKbR3jzfoL"
      },
      "execution_count": null,
      "outputs": []
    },
    {
      "cell_type": "markdown",
      "source": [
        "## Работа с текстами более 512 токенов"
      ],
      "metadata": {
        "id": "DWfnwX1zrTQT"
      }
    },
    {
      "cell_type": "markdown",
      "source": [
        "### Кодировка текста"
      ],
      "metadata": {
        "id": "X6RtrK9aF_qI"
      }
    },
    {
      "cell_type": "markdown",
      "source": [
        "Загрузка обученной модели BERT и модели LSTM для классификации"
      ],
      "metadata": {
        "id": "GgR_q0FvU6V3"
      }
    },
    {
      "cell_type": "code",
      "source": [
        "model_bert = torch.load('bert_model')"
      ],
      "metadata": {
        "id": "VQwZ_t4_XOpB"
      },
      "execution_count": null,
      "outputs": []
    },
    {
      "cell_type": "code",
      "source": [
        "model_lstm = keras.models.load_model('model_lstm.keras')"
      ],
      "metadata": {
        "id": "7DAZ48_DXOpL"
      },
      "execution_count": null,
      "outputs": []
    },
    {
      "cell_type": "code",
      "execution_count": null,
      "metadata": {
        "colab": {
          "base_uri": "https://localhost:8080/"
        },
        "id": "PBKyFsG-EzFW",
        "outputId": "7a1e5c19-f1e3-4905-f8bc-62de7e8dd33f"
      },
      "outputs": [
        {
          "output_type": "execute_result",
          "data": {
            "text/plain": [
              "[0, 8]"
            ]
          },
          "metadata": {},
          "execution_count": 48
        }
      ],
      "source": [
        "DATA_COLUMN = 'Абстракт'\n",
        "LABEL_COLUMN = 'Метка'\n",
        "\n",
        "label_list = [x for x in np.unique(df_more['Метка'])]\n",
        "label_list"
      ]
    },
    {
      "cell_type": "markdown",
      "metadata": {
        "id": "TzSltMtsl5mP"
      },
      "source": [
        "Разбиение текстов на сегменты по 510 токенов каждый с перекрытием в 50 токенов"
      ]
    },
    {
      "cell_type": "code",
      "execution_count": null,
      "metadata": {
        "id": "MF9uwoBrr_Xg"
      },
      "outputs": [],
      "source": [
        "def get_split(text1):\n",
        "  l_total = []\n",
        "  l_parcial = []\n",
        "  if len(text1.split())//460 >0:\n",
        "    n = len(text1.split())//460\n",
        "  else:\n",
        "    n = 1\n",
        "  for w in range(n+1):\n",
        "    if w == 0:\n",
        "      l_parcial = text1.split()[:510]\n",
        "      l_total.append(\" \".join(l_parcial))\n",
        "    else:\n",
        "      l_parcial = text1.split()[w*460:w*460 + 510]\n",
        "      l_total.append(\" \".join(l_parcial))\n",
        "  return l_total"
      ]
    },
    {
      "cell_type": "code",
      "execution_count": null,
      "metadata": {
        "colab": {
          "base_uri": "https://localhost:8080/",
          "height": 175
        },
        "id": "UqoD1rRNEzJ8",
        "outputId": "12996e45-5e3a-49ff-a4c8-85d658f3efba"
      },
      "outputs": [
        {
          "output_type": "execute_result",
          "data": {
            "text/plain": [
              "                                               Абстракт  Метка  length  \\\n",
              "503   ETHNOPHARMACOLOGICAL RELEVANCE: As a commonly ...      8     660   \n",
              "780   STUDY QUESTION: Are differences in androgen le...      0     685   \n",
              "1103  STUDY QUESTION: Is psychosocial stress associa...      0     511   \n",
              "3065  STUDY QUESTION: Is bisphenol A (BPA) exposure ...      0     674   \n",
              "\n",
              "                                             text_split  \n",
              "503   [ETHNOPHARMACOLOGICAL RELEVANCE: As a commonly...  \n",
              "780   [STUDY QUESTION: Are differences in androgen l...  \n",
              "1103  [STUDY QUESTION: Is psychosocial stress associ...  \n",
              "3065  [STUDY QUESTION: Is bisphenol A (BPA) exposure...  "
            ],
            "text/html": [
              "\n",
              "  <div id=\"df-f67f1f46-b5aa-4ef6-b8f7-15ff641cabd0\" class=\"colab-df-container\">\n",
              "    <div>\n",
              "<style scoped>\n",
              "    .dataframe tbody tr th:only-of-type {\n",
              "        vertical-align: middle;\n",
              "    }\n",
              "\n",
              "    .dataframe tbody tr th {\n",
              "        vertical-align: top;\n",
              "    }\n",
              "\n",
              "    .dataframe thead th {\n",
              "        text-align: right;\n",
              "    }\n",
              "</style>\n",
              "<table border=\"1\" class=\"dataframe\">\n",
              "  <thead>\n",
              "    <tr style=\"text-align: right;\">\n",
              "      <th></th>\n",
              "      <th>Абстракт</th>\n",
              "      <th>Метка</th>\n",
              "      <th>length</th>\n",
              "      <th>text_split</th>\n",
              "    </tr>\n",
              "  </thead>\n",
              "  <tbody>\n",
              "    <tr>\n",
              "      <th>503</th>\n",
              "      <td>ETHNOPHARMACOLOGICAL RELEVANCE: As a commonly ...</td>\n",
              "      <td>8</td>\n",
              "      <td>660</td>\n",
              "      <td>[ETHNOPHARMACOLOGICAL RELEVANCE: As a commonly...</td>\n",
              "    </tr>\n",
              "    <tr>\n",
              "      <th>780</th>\n",
              "      <td>STUDY QUESTION: Are differences in androgen le...</td>\n",
              "      <td>0</td>\n",
              "      <td>685</td>\n",
              "      <td>[STUDY QUESTION: Are differences in androgen l...</td>\n",
              "    </tr>\n",
              "    <tr>\n",
              "      <th>1103</th>\n",
              "      <td>STUDY QUESTION: Is psychosocial stress associa...</td>\n",
              "      <td>0</td>\n",
              "      <td>511</td>\n",
              "      <td>[STUDY QUESTION: Is psychosocial stress associ...</td>\n",
              "    </tr>\n",
              "    <tr>\n",
              "      <th>3065</th>\n",
              "      <td>STUDY QUESTION: Is bisphenol A (BPA) exposure ...</td>\n",
              "      <td>0</td>\n",
              "      <td>674</td>\n",
              "      <td>[STUDY QUESTION: Is bisphenol A (BPA) exposure...</td>\n",
              "    </tr>\n",
              "  </tbody>\n",
              "</table>\n",
              "</div>\n",
              "    <div class=\"colab-df-buttons\">\n",
              "\n",
              "  <div class=\"colab-df-container\">\n",
              "    <button class=\"colab-df-convert\" onclick=\"convertToInteractive('df-f67f1f46-b5aa-4ef6-b8f7-15ff641cabd0')\"\n",
              "            title=\"Convert this dataframe to an interactive table.\"\n",
              "            style=\"display:none;\">\n",
              "\n",
              "  <svg xmlns=\"http://www.w3.org/2000/svg\" height=\"24px\" viewBox=\"0 -960 960 960\">\n",
              "    <path d=\"M120-120v-720h720v720H120Zm60-500h600v-160H180v160Zm220 220h160v-160H400v160Zm0 220h160v-160H400v160ZM180-400h160v-160H180v160Zm440 0h160v-160H620v160ZM180-180h160v-160H180v160Zm440 0h160v-160H620v160Z\"/>\n",
              "  </svg>\n",
              "    </button>\n",
              "\n",
              "  <style>\n",
              "    .colab-df-container {\n",
              "      display:flex;\n",
              "      gap: 12px;\n",
              "    }\n",
              "\n",
              "    .colab-df-convert {\n",
              "      background-color: #E8F0FE;\n",
              "      border: none;\n",
              "      border-radius: 50%;\n",
              "      cursor: pointer;\n",
              "      display: none;\n",
              "      fill: #1967D2;\n",
              "      height: 32px;\n",
              "      padding: 0 0 0 0;\n",
              "      width: 32px;\n",
              "    }\n",
              "\n",
              "    .colab-df-convert:hover {\n",
              "      background-color: #E2EBFA;\n",
              "      box-shadow: 0px 1px 2px rgba(60, 64, 67, 0.3), 0px 1px 3px 1px rgba(60, 64, 67, 0.15);\n",
              "      fill: #174EA6;\n",
              "    }\n",
              "\n",
              "    .colab-df-buttons div {\n",
              "      margin-bottom: 4px;\n",
              "    }\n",
              "\n",
              "    [theme=dark] .colab-df-convert {\n",
              "      background-color: #3B4455;\n",
              "      fill: #D2E3FC;\n",
              "    }\n",
              "\n",
              "    [theme=dark] .colab-df-convert:hover {\n",
              "      background-color: #434B5C;\n",
              "      box-shadow: 0px 1px 3px 1px rgba(0, 0, 0, 0.15);\n",
              "      filter: drop-shadow(0px 1px 2px rgba(0, 0, 0, 0.3));\n",
              "      fill: #FFFFFF;\n",
              "    }\n",
              "  </style>\n",
              "\n",
              "    <script>\n",
              "      const buttonEl =\n",
              "        document.querySelector('#df-f67f1f46-b5aa-4ef6-b8f7-15ff641cabd0 button.colab-df-convert');\n",
              "      buttonEl.style.display =\n",
              "        google.colab.kernel.accessAllowed ? 'block' : 'none';\n",
              "\n",
              "      async function convertToInteractive(key) {\n",
              "        const element = document.querySelector('#df-f67f1f46-b5aa-4ef6-b8f7-15ff641cabd0');\n",
              "        const dataTable =\n",
              "          await google.colab.kernel.invokeFunction('convertToInteractive',\n",
              "                                                    [key], {});\n",
              "        if (!dataTable) return;\n",
              "\n",
              "        const docLinkHtml = 'Like what you see? Visit the ' +\n",
              "          '<a target=\"_blank\" href=https://colab.research.google.com/notebooks/data_table.ipynb>data table notebook</a>'\n",
              "          + ' to learn more about interactive tables.';\n",
              "        element.innerHTML = '';\n",
              "        dataTable['output_type'] = 'display_data';\n",
              "        await google.colab.output.renderOutput(dataTable, element);\n",
              "        const docLink = document.createElement('div');\n",
              "        docLink.innerHTML = docLinkHtml;\n",
              "        element.appendChild(docLink);\n",
              "      }\n",
              "    </script>\n",
              "  </div>\n",
              "\n",
              "\n",
              "<div id=\"df-96b146c0-d468-4683-8484-1cc8ef34f4fa\">\n",
              "  <button class=\"colab-df-quickchart\" onclick=\"quickchart('df-96b146c0-d468-4683-8484-1cc8ef34f4fa')\"\n",
              "            title=\"Suggest charts\"\n",
              "            style=\"display:none;\">\n",
              "\n",
              "<svg xmlns=\"http://www.w3.org/2000/svg\" height=\"24px\"viewBox=\"0 0 24 24\"\n",
              "     width=\"24px\">\n",
              "    <g>\n",
              "        <path d=\"M19 3H5c-1.1 0-2 .9-2 2v14c0 1.1.9 2 2 2h14c1.1 0 2-.9 2-2V5c0-1.1-.9-2-2-2zM9 17H7v-7h2v7zm4 0h-2V7h2v10zm4 0h-2v-4h2v4z\"/>\n",
              "    </g>\n",
              "</svg>\n",
              "  </button>\n",
              "\n",
              "<style>\n",
              "  .colab-df-quickchart {\n",
              "      --bg-color: #E8F0FE;\n",
              "      --fill-color: #1967D2;\n",
              "      --hover-bg-color: #E2EBFA;\n",
              "      --hover-fill-color: #174EA6;\n",
              "      --disabled-fill-color: #AAA;\n",
              "      --disabled-bg-color: #DDD;\n",
              "  }\n",
              "\n",
              "  [theme=dark] .colab-df-quickchart {\n",
              "      --bg-color: #3B4455;\n",
              "      --fill-color: #D2E3FC;\n",
              "      --hover-bg-color: #434B5C;\n",
              "      --hover-fill-color: #FFFFFF;\n",
              "      --disabled-bg-color: #3B4455;\n",
              "      --disabled-fill-color: #666;\n",
              "  }\n",
              "\n",
              "  .colab-df-quickchart {\n",
              "    background-color: var(--bg-color);\n",
              "    border: none;\n",
              "    border-radius: 50%;\n",
              "    cursor: pointer;\n",
              "    display: none;\n",
              "    fill: var(--fill-color);\n",
              "    height: 32px;\n",
              "    padding: 0;\n",
              "    width: 32px;\n",
              "  }\n",
              "\n",
              "  .colab-df-quickchart:hover {\n",
              "    background-color: var(--hover-bg-color);\n",
              "    box-shadow: 0 1px 2px rgba(60, 64, 67, 0.3), 0 1px 3px 1px rgba(60, 64, 67, 0.15);\n",
              "    fill: var(--button-hover-fill-color);\n",
              "  }\n",
              "\n",
              "  .colab-df-quickchart-complete:disabled,\n",
              "  .colab-df-quickchart-complete:disabled:hover {\n",
              "    background-color: var(--disabled-bg-color);\n",
              "    fill: var(--disabled-fill-color);\n",
              "    box-shadow: none;\n",
              "  }\n",
              "\n",
              "  .colab-df-spinner {\n",
              "    border: 2px solid var(--fill-color);\n",
              "    border-color: transparent;\n",
              "    border-bottom-color: var(--fill-color);\n",
              "    animation:\n",
              "      spin 1s steps(1) infinite;\n",
              "  }\n",
              "\n",
              "  @keyframes spin {\n",
              "    0% {\n",
              "      border-color: transparent;\n",
              "      border-bottom-color: var(--fill-color);\n",
              "      border-left-color: var(--fill-color);\n",
              "    }\n",
              "    20% {\n",
              "      border-color: transparent;\n",
              "      border-left-color: var(--fill-color);\n",
              "      border-top-color: var(--fill-color);\n",
              "    }\n",
              "    30% {\n",
              "      border-color: transparent;\n",
              "      border-left-color: var(--fill-color);\n",
              "      border-top-color: var(--fill-color);\n",
              "      border-right-color: var(--fill-color);\n",
              "    }\n",
              "    40% {\n",
              "      border-color: transparent;\n",
              "      border-right-color: var(--fill-color);\n",
              "      border-top-color: var(--fill-color);\n",
              "    }\n",
              "    60% {\n",
              "      border-color: transparent;\n",
              "      border-right-color: var(--fill-color);\n",
              "    }\n",
              "    80% {\n",
              "      border-color: transparent;\n",
              "      border-right-color: var(--fill-color);\n",
              "      border-bottom-color: var(--fill-color);\n",
              "    }\n",
              "    90% {\n",
              "      border-color: transparent;\n",
              "      border-bottom-color: var(--fill-color);\n",
              "    }\n",
              "  }\n",
              "</style>\n",
              "\n",
              "  <script>\n",
              "    async function quickchart(key) {\n",
              "      const quickchartButtonEl =\n",
              "        document.querySelector('#' + key + ' button');\n",
              "      quickchartButtonEl.disabled = true;  // To prevent multiple clicks.\n",
              "      quickchartButtonEl.classList.add('colab-df-spinner');\n",
              "      try {\n",
              "        const charts = await google.colab.kernel.invokeFunction(\n",
              "            'suggestCharts', [key], {});\n",
              "      } catch (error) {\n",
              "        console.error('Error during call to suggestCharts:', error);\n",
              "      }\n",
              "      quickchartButtonEl.classList.remove('colab-df-spinner');\n",
              "      quickchartButtonEl.classList.add('colab-df-quickchart-complete');\n",
              "    }\n",
              "    (() => {\n",
              "      let quickchartButtonEl =\n",
              "        document.querySelector('#df-96b146c0-d468-4683-8484-1cc8ef34f4fa button');\n",
              "      quickchartButtonEl.style.display =\n",
              "        google.colab.kernel.accessAllowed ? 'block' : 'none';\n",
              "    })();\n",
              "  </script>\n",
              "</div>\n",
              "    </div>\n",
              "  </div>\n"
            ],
            "application/vnd.google.colaboratory.intrinsic+json": {
              "type": "dataframe",
              "variable_name": "df_more",
              "summary": "{\n  \"name\": \"df_more\",\n  \"rows\": 4,\n  \"fields\": [\n    {\n      \"column\": \"\\u0410\\u0431\\u0441\\u0442\\u0440\\u0430\\u043a\\u0442\",\n      \"properties\": {\n        \"dtype\": \"string\",\n        \"num_unique_values\": 4,\n        \"samples\": [\n          \"STUDY QUESTION: Are differences in androgen levels among women with various forms of ovarian dysfunction associated with cardiometabolic abnormalities?\\r\\nSUMMARY ANSWER: Androgen levels differed substantially between women with and without ovarian dysfunction, and increased androgen levels were associated with impaired cardiometabolic features in all women irrespective of their clinical condition.\\r\\nWHAT IS KNOWN ALREADY: Sex steroid hormones play important roles in the development of cardiovascular diseases (CVD). Extremes of low as well as high androgen levels have been associated with increased CVD risk in both men and women.\\r\\nSTUDY DESIGN, SIZE, DURATION: This cross-sectional study included 680 women with polycystic ovary syndrome (PCOS), premature ovarian insufficiency (POI), natural post-menopausal women (NM), or regular menstrual cycles (RC) (170 women per group).\\r\\nPARTICIPANTS/MATERIALS, SETTING, METHODS: Measurements of serum testosterone, androstenedione and dehydroepiandrosterone sulfate were performed using liquid chromatography-tandem mass spectrometry. Assessments were taken of body mass index (BMI), blood pressure, lipid profiles, glucose, insulin and SHBG, and the bioactive fraction of circulating testosterone was calculated using the free androgen index (FAI).\\r\\nMAIN RESULTS AND THE ROLE OF CHANCE: PCOS women were hyperandrogenic [median FAI = 4.9 (IQR 3.6-7.4)], and POI women were hypoandrogenic [FAI = 1.2 (0.8-1.7)], compared with RC women [FAI = 1.7 (1.1-2.8)], after adjustment for age, ethnicity, smoking and BMI (P < 0.001). After adjustment for age, there were no significant differences in androgens between POI and NM (P = 0.15) women and between NM and RC (P = 0.27) women, the latter indicating that chronological aging rather than ovarian aging influences the differences between pre- and post-menopausal women. A high FAI was associated with elevated triglycerides (\\u03b2 log FAI for PCOS: 0.45, P < 0.001, POI: 0.25, P < 0.001, NM: 0.20, P = 0.002), insulin (\\u03b2 log FAI for PCOS: 0.77, POI: 0.44, NM: 0.40, all P < 0.001), HOMA-IR (\\u03b2 log FAI for PCOS: 0.82, POI: 0.46, NM: 0.47, all P < 0.001) and mean arterial pressure (\\u03b2 log FAI for PCOS: 0.05, P = 0.002, POI: 0.07, P < 0.001, NM: 0.04, P = 0.04) in all women; with increased glucose (\\u03b2 log FAI for PCOS: 0.05, P = 0.003, NM: 0.07, P < 0.001) and decreased high-density lipoprotein (\\u03b2 log FAI for PCOS: -0.23, P < 0.001, NM: -0.09, P = 0.03) in PCOS and NM women; and with increased low-density lipoprotein (\\u03b2 log FAI for POI: 0.083, P = 0.041) in POI women. Adjustment for BMI attenuated the observed associations. Associations between FAI and cardiometabolic features were the strongest in PCOS women, even after adjustment for BMI.\\r\\nLIMITATIONS, REASONS FOR CAUTION: Associations between androgen levels and cardiometabolic features were assessed in PCOS, POI and NM women only, due to a lack of available data in RC women. Due to the cross-sectional design of the current study, the potential associations between androgen levels and actual future cardiovascular events could not be assessed.\\r\\nWIDER IMPLICATIONS OF THE FINDINGS: This study affirms the potent effect of androgens on cardiometabolic features, indicating that androgens should indeed be regarded as important denominators of women's health. Future research regarding the role of androgens in the development of CVD and potential modulatory effects of BMI is required.\\r\\nSTUDY FUNDING/COMPETING INTERESTS: N.M.P.D. is supported by the Dutch Heart Foundation (grant number 2013T083). L.J. and O.H.F. work in ErasmusAGE, a center for aging research across the life course, funded by Nestl\\u00e9 Nutrition (Nestec Ltd), Metagenics Inc. and AXA. M.K. is supported by the AXA Research Fund. Nestl\\u00e9 Nutrition (Nestec Ltd), Metagenics Inc. and AXA had no role in the design and conduct of the study; the collection, management, analysis and interpretation of the data; or the preparation, review or approval of the manuscript. J.S.E.L. has received fees and grant support from the following companies (in alphabetical order): Ferring, Merck-Serono, Merck Sharpe & Dome, Organon, Schering Plough and Serono. In the last 5 years, B.C.J.M.F. has received fees and grant support from the following companies (in alphabetic order); Actavis, COGI, Euroscreen, Ferring, Finox, Genovum, Gedeon-Richter, Merck-Serono, OvaScience, Pantharei Bioscience, PregLem, Roche, Uteron and Watson laboratories. With regard to potential conflicts of interest, there is nothing further to disclose.\",\n          \"STUDY QUESTION: Is bisphenol A (BPA) exposure associated with the risk of endometriosis, an estrogen-driven disease of women of reproductive age?\\r\\nSUMMARY ANSWER: Our study suggests that increased urinary BPA is associated with an increased risk of non-ovarian pelvic endometriosis, but not ovarian endometriosis.\\r\\nWHAT IS KNOWN ALREADY: BPA, a high-volume chemical used in the polymer industry, has been the focus of public and scientific concern given its demonstrated estrogenic effects in vivo and in vitro and widespread human exposure. Prior studies of BPA and endometriosis have yielded inconsistent results and were limited by the participant sampling framework, small sample size or use of serum (which has very low/transient concentrations) instead of urine to measure BPA concentrations.\\r\\nSTUDY DESIGN, SIZE, DURATION: We used data from the Women's Risk of Endometriosis study, a population-based case-control study of endometriosis, conducted among female enrollees of a large healthcare system in the US Pacific Northwest. Cases were women with incident, surgically confirmed endometriosis diagnosed between 1996 and 2001 and controls were women randomly selected from the defined population that gave rise to the cases, without a current or prior diagnosis of endometriosis.\\r\\nPARTICIPANTS/MATERIALS, SETTINGS, METHODS: Total urinary BPA concentrations were measured in 143 cases and 287 population-based controls using single, spot urine samples collected after disease diagnosis in cases. Total urinary BPA concentration (free and conjugated species) was quantified using a high-performance liquid chromatography-mass spectrometry method. We estimated odds ratios (ORs) and 95% confidence intervals (CIs) using unconditional logistic regression, adjusting for urinary creatinine concentrations, age and reference year. We also evaluated the association by disease subtypes, ovarian and non-ovarian pelvic endometriosis, that may be etiologically distinct.\\r\\nMAIN RESULTS AND THE ROLE OF CHANCE: We did not observe a statistically significant association between total urinary BPA concentrations and endometriosis overall. We did observe statistically significant positive associations when evaluating total urinary BPA concentrations in relation to non-ovarian pelvic endometriosis (second versus lowest quartile: OR 3.0; 95% CI: 1.2, 7.3; third versus lowest quartile: OR 3.0; 95% CI: 1.1, 7.6), but not in relation to ovarian endometriosis.\\r\\nLIMITATIONS, REASONS FOR CAUTION: Given the short elimination half-life of BPA, our study was limited by the timing of collection of the single urine sample, that occurred after case diagnosis. Thus, our BPA measurements may not accurately represent the participants' levels during the etiologically relevant time period for endometriosis development. In addition, since it was not feasible in this population-based study to surgically confirm the absence of disease, it is possible that some controls may have had undiagnosed endometriosis.\\r\\nWIDER IMPLICATIONS OF THE FINDINGS: By using population-based data, it is more likely that the controls represented the underlying frequency of BPA exposure in contrast to prior studies that used for comparison control women undergoing surgical evaluation, where the indication for surgery may be associated with BPA exposure. The significant associations observed in this study suggest that BPA may affect the normal dynamic structural changes of hormonally responsive endometrial tissue during the menstrual cycle, promoting the establishment and persistence of refluxed endometrial tissue in cases with non-ovarian pelvic endometriosis. Further research is warranted to confirm our novel findings in endometriosis subtypes that may be etiologically distinct.\\r\\nSTUDY FUNDING/COMPETING INTERESTS: This work was supported by the National Institutes of Health, National Institute of Environmental Health Sciences (grant number R03 ES019976), the Eunice Kennedy Shriver National Institute of Child Health and Human Development (grant number R01 HD033792); US Environmental Protection Agency, Science to Achieve Results (STAR) (grant number R82943-01-0) and National Institute of Nursing Research (grant number F31NR013092) to KU for training support. This work was supported in part by the Intramural Research Program of the National Institutes of Health, National Institute of Environmental Health Sciences. The content is solely the responsibility of the authors and does not necessarily represent the official view of the National Institute of Child Health and Human Development, National Institute of Environmental Health Sciences, National Institute of Nursing Research or the National Institutes of Health. The authors have no actual or potential competing financial interests.\\r\\nTRIAL REGISTRATION NUMBER: Not applicable.\",\n          \"ETHNOPHARMACOLOGICAL RELEVANCE: As a commonly used traditional Chinese herbal medicine, Polygonati Rhizoma has high medicinal value, it can enhance the immune capacity of the body, regulate the metabolism of blood glucose and lipids, treat weakness of the stomach and intestines and physical fatigue, and so on. There are three plant varieties of Polygonati Rhizoma recorded in Chinese Pharmacopoeia, including Polygonatum sibiricum Red., Polygonatum kingianum Coll. et Hemsl. and Polygonatum cyrtonema Hua, compared with the first two, Polygonatum cyrtonema Hua is less studied. Polygonatum cyrtonema Hua is one of the basal plants of the Chinese herb Polygonati Rhizoma, that strengthens the spleen, moistens the lungs, and benefits the kidneys. Polygonatum polysaccharide is the main active substance of Polygonatum cyrtonema Hua, which has various biological effects of regulating immune system, anti-inflammatory, anti-antidepressant, antioxidant and other effects.\\r\\nAIM OF THE STUDY: In order to analyze the necessity and scientificity of multiple cycles of steaming during the traditional nine-steaming and nine-drying process of the concoction of Polygonatum, we investigated the changes in the composition and structure of polysaccharides, and explored its immunomodulatory activity and molecular biological mechanism.\\r\\nMETHODS: The structural characterization and molecular weight of polysaccharides were studied by scanning electron microscope (SEM), high-performance size exclusion chromatography-evaporative light scattering detector (HPSEC-ELSD) and Matrix.assisted laser resolutionu ionization time-of-flight mass spectrometry (MALDI-TOF-MS). The composition and proportion of monosaccharides were determined by PMP-HPLC method. A mouse immunosuppression model was established by intraperitoneal injection of cyclophosphamide to compare the immunomodulatory effects and mechanisms of different steaming times of Polygonatum, The changes of body mass and immune organ indices of mice were measured; the secretion levels of interleukin-2 (IL-2), interferon \\u03b3 (IFN-\\u03b3) and the expression levels of immunoglobulin M (IgM) and immunoglobulin A (IgA) in serum were determined by enzyme-linked immunosorbent assay; and then flow cytometry was used to detect T-lymphocyte subpopulations to evaluate the differences of immunomodulatory effects of polysaccharides during the processing and preparation of Polygonatum. Finally, the Illumina MiSeq high-throughput sequencing platform was used to analyze short-chain fatty acids and to investigate the effects of different steaming times of Polygonatum polysaccharides on immune function and intestinal flora in immunosuppressed mice.\\r\\nRESULTS: The structure of the Polygonatum polysaccharide with different steaming times changed significantly, the relative molecular weight of Polygonatum polysaccharide decreased significantly, and the monosaccharide composition of Polygonatum cyrtonema Hua with different steaming times was the same but the content was different. The immunomodulatory activity of the Polygonatum polysaccharide was enhanced after concoction, which significantly increased the spleen index and thymus index, and increased the expression of IL-2, IFN-\\u03b3, IgA and IgM. The CD4+/CD8+ ratio of Polygonatum polysaccharide also increased gradually with different steaming times, indicating enhanced immune function and significant immunomodulatory effect. The content of short-chain fatty acids in the feces of mice in both six steaming six sun-drying of Polygonatum polysaccharides (SYWPP) and nine steaming nine sun-drying of Polygonatum polysaccharides (NYWPP) groups increased significantly, including the content of propionic acid, isobutyric acid, valeric acid, and isovaleric acid, and also had a good effect on the regulation and improvement of microbial community abundance and diversity, SYWPP and NYWPP increased the relative abundance of Bacteroides and the ratio of Bacteroides and Firmicutes (B:F), while SYWPP significantly increased the abundance of Bacteroides, Alistipes and norank_f__Lachnospiraceae, but the effect of raw Polygonatum polysaccharides (RPP) and NYWPP was not significant than SYWPP.\\r\\nCONCLUSION: Overall, both SYWPP and NYWPP could significantly enhance the immune activity of the organism, improve the imbalance of intestinal flora in immunosuppressed mice, and increase the content of intestinal short chain fatty acids (SCFAs), it is noteworthy that SYWPP has a better effect on the improvement of the immune activity of the organism. These findings can explore the stage of the concoction process of Polygonatum cyrtonema Hua to achieve the best effect, provide a reference basis for the development of quality standards, and at the same time promote the application of new therapeutic agents and health foods in raw and different steaming times of Polygonatum polysaccharide.\"\n        ],\n        \"semantic_type\": \"\",\n        \"description\": \"\"\n      }\n    },\n    {\n      \"column\": \"\\u041c\\u0435\\u0442\\u043a\\u0430\",\n      \"properties\": {\n        \"dtype\": \"number\",\n        \"std\": 4,\n        \"min\": 0,\n        \"max\": 8,\n        \"num_unique_values\": 2,\n        \"samples\": [\n          0,\n          8\n        ],\n        \"semantic_type\": \"\",\n        \"description\": \"\"\n      }\n    },\n    {\n      \"column\": \"length\",\n      \"properties\": {\n        \"dtype\": \"number\",\n        \"std\": 81,\n        \"min\": 511,\n        \"max\": 685,\n        \"num_unique_values\": 4,\n        \"samples\": [\n          685,\n          674\n        ],\n        \"semantic_type\": \"\",\n        \"description\": \"\"\n      }\n    },\n    {\n      \"column\": \"text_split\",\n      \"properties\": {\n        \"dtype\": \"object\",\n        \"semantic_type\": \"\",\n        \"description\": \"\"\n      }\n    }\n  ]\n}"
            }
          },
          "metadata": {},
          "execution_count": 50
        }
      ],
      "source": [
        "df_more['text_split'] = df_more[DATA_COLUMN].apply(get_split)\n",
        "df_more"
      ]
    },
    {
      "cell_type": "code",
      "execution_count": null,
      "metadata": {
        "id": "XhPjYdpMr_pQ"
      },
      "outputs": [],
      "source": [
        "for i in df_more['text_split']:\n",
        "  if '' in i:\n",
        "    i.remove('')"
      ]
    },
    {
      "cell_type": "code",
      "execution_count": null,
      "metadata": {
        "id": "OrGlzRYOfNBY"
      },
      "outputs": [],
      "source": [
        "df_more.reset_index(drop=True, inplace=True)"
      ]
    },
    {
      "cell_type": "markdown",
      "source": [
        "Разбиение данных на три списка содержащих сами тектсы, метки и индексы каждого текста для обратного объединения сегментов текста"
      ],
      "metadata": {
        "id": "l3xhJYUaVaYk"
      }
    },
    {
      "cell_type": "code",
      "execution_count": null,
      "metadata": {
        "colab": {
          "base_uri": "https://localhost:8080/"
        },
        "id": "Om_10GgT0XXJ",
        "outputId": "35084869-1ba6-4506-d8c8-65eb13892d06"
      },
      "outputs": [
        {
          "output_type": "execute_result",
          "data": {
            "text/plain": [
              "(8, 8, 8)"
            ]
          },
          "metadata": {},
          "execution_count": 53
        }
      ],
      "source": [
        "test_l = []\n",
        "label_test_l = []\n",
        "index_test_l =[]\n",
        "for idx,row in df_more.iterrows():\n",
        "  for l in row['text_split']:\n",
        "    test_l.append(l)\n",
        "    label_test_l.append(row['Метка'])\n",
        "    index_test_l.append(idx)\n",
        "len(test_l), len(label_test_l), len(index_test_l)"
      ]
    },
    {
      "cell_type": "code",
      "execution_count": null,
      "metadata": {
        "id": "Mzn6GysL1avK"
      },
      "outputs": [],
      "source": [
        "test_df = pd.DataFrame({DATA_COLUMN:test_l, LABEL_COLUMN:label_test_l})"
      ]
    },
    {
      "cell_type": "code",
      "execution_count": null,
      "metadata": {
        "id": "-RommBZ11lUT"
      },
      "outputs": [],
      "source": [
        "corpus_test = test_df['Абстракт'].to_numpy()\n",
        "sample_labels_test = test_df['Метка'].to_numpy()"
      ]
    },
    {
      "cell_type": "code",
      "source": [
        "from torch.utils.data import TensorDataset, DataLoader, RandomSampler, SequentialSampler,random_split"
      ],
      "metadata": {
        "id": "diRicYsAj30G"
      },
      "execution_count": null,
      "outputs": []
    },
    {
      "cell_type": "markdown",
      "source": [
        "Токенизация текста. На выходе имеем два тензора с закондированными текстами и маской, указывающей на наличие специального токена заполнения PAD"
      ],
      "metadata": {
        "id": "Q0yeho9fV5qj"
      }
    },
    {
      "cell_type": "code",
      "execution_count": null,
      "metadata": {
        "id": "MZuK236hUWxo",
        "colab": {
          "base_uri": "https://localhost:8080/"
        },
        "outputId": "fb2c1a22-6549-408d-cea7-255bfe848993"
      },
      "outputs": [
        {
          "output_type": "stream",
          "name": "stderr",
          "text": [
            "Truncation was not explicitly activated but `max_length` is provided a specific value, please use `truncation=True` to explicitly truncate examples to max length. Defaulting to 'longest_first' truncation strategy. If you encode pairs of sequences (GLUE-style) with the tokenizer you can select this strategy more precisely by providing a specific strategy to `truncation`.\n",
            "/usr/local/lib/python3.10/dist-packages/transformers/tokenization_utils_base.py:2619: FutureWarning: The `pad_to_max_length` argument is deprecated and will be removed in a future version, use `padding=True` or `padding='longest'` to pad to the longest sequence in the batch, or use `padding='max_length'` to pad to a max length. In this case, you can give a specific length with `max_length` (e.g. `max_length=45`) or leave max_length to None to pad to the maximal input size of the model (e.g. 512 for Bert).\n",
            "  warnings.warn(\n"
          ]
        }
      ],
      "source": [
        "test_input_ids = []\n",
        "test_attention_masks = []\n",
        "for tweet in corpus_test:\n",
        "    encoded_dict = tokenizer.encode_plus(\n",
        "                        tweet,\n",
        "                        add_special_tokens = True,\n",
        "                        max_length = 510,\n",
        "                        pad_to_max_length = True,\n",
        "                        return_attention_mask = True,\n",
        "                        return_tensors = 'pt',\n",
        "                   )\n",
        "    test_input_ids.append(encoded_dict['input_ids'])\n",
        "    test_attention_masks.append(encoded_dict['attention_mask'])\n",
        "test_input_ids = torch.cat(test_input_ids, dim=0)\n",
        "test_attention_masks = torch.cat(test_attention_masks, dim=0)"
      ]
    },
    {
      "cell_type": "markdown",
      "source": [
        "Для дальнейшей подачи данных в модель трансформера необходимо представить их в виде DataLoader"
      ],
      "metadata": {
        "id": "xrBM7PmlWH0q"
      }
    },
    {
      "cell_type": "code",
      "execution_count": null,
      "metadata": {
        "id": "iDor4aX8UWxo"
      },
      "outputs": [],
      "source": [
        "test_dataset = TensorDataset(test_input_ids, test_attention_masks)\n",
        "test_dataloader = DataLoader(\n",
        "            test_dataset,\n",
        "            sampler = SequentialSampler(test_dataset), # Берем батчи последовательно\n",
        "            batch_size = 3\n",
        "        )"
      ]
    },
    {
      "cell_type": "code",
      "execution_count": null,
      "metadata": {
        "id": "fPz858SkUWxo"
      },
      "outputs": [],
      "source": [
        "def mean_pooling(model_output, attention_mask):\n",
        "    token_embeddings = model_output[1][0]\n",
        "    input_mask_expanded = attention_mask.unsqueeze(-1).expand(token_embeddings.size()).float()\n",
        "    sum_embeddings = torch.sum(token_embeddings * input_mask_expanded, 1)\n",
        "    sum_mask = torch.clamp(input_mask_expanded.sum(1), min=1e-9)\n",
        "    return sum_embeddings / sum_mask"
      ]
    },
    {
      "cell_type": "markdown",
      "source": [
        "Выполнение предсказаний загруженной ранее моделью BERT"
      ],
      "metadata": {
        "id": "hMPO_TzqWWCU"
      }
    },
    {
      "cell_type": "code",
      "execution_count": null,
      "metadata": {
        "id": "exIumM5kUWxo"
      },
      "outputs": [],
      "source": [
        "predictions = []\n",
        "embeddings = torch.Tensor().to(device)\n",
        "for batch in test_dataloader:\n",
        "        b_input_ids = batch[0].to(device)\n",
        "        b_input_mask = batch[1].to(device)\n",
        "        with torch.no_grad():\n",
        "            output= model_bert(b_input_ids,\n",
        "                                   token_type_ids=None,\n",
        "                                   attention_mask=b_input_mask, output_hidden_states = True)\n",
        "            # print(output[1].shape)\n",
        "            embeddings = torch.cat([embeddings, mean_pooling(output, b_input_mask)])\n",
        "\n",
        "            logits = output.logits\n",
        "            logits = logits.detach().cpu().numpy()\n",
        "            pred_flat = np.argmax(logits, axis=1).flatten()\n",
        "\n",
        "            predictions.extend(list(pred_flat))\n",
        "embeddings = embeddings.cpu().numpy()"
      ]
    },
    {
      "cell_type": "code",
      "execution_count": null,
      "metadata": {
        "id": "GQqjk39IiWfS"
      },
      "outputs": [],
      "source": [
        "embeddings_test = embeddings"
      ]
    },
    {
      "cell_type": "code",
      "execution_count": null,
      "metadata": {
        "id": "jaJU4mECd9NS"
      },
      "outputs": [],
      "source": [
        "test_emb = embeddings_test"
      ]
    },
    {
      "cell_type": "markdown",
      "metadata": {
        "id": "8xIR96MCip9D"
      },
      "source": [
        "Объединяем сегменты текстов"
      ]
    },
    {
      "cell_type": "code",
      "execution_count": null,
      "metadata": {
        "id": "LZpCvsR9d1Xa",
        "colab": {
          "base_uri": "https://localhost:8080/"
        },
        "outputId": "3a6689a6-79f2-42a7-a3ed-c278528be652"
      },
      "outputs": [
        {
          "output_type": "execute_result",
          "data": {
            "text/plain": [
              "4"
            ]
          },
          "metadata": {},
          "execution_count": 64
        }
      ],
      "source": [
        "aux = -1\n",
        "len_l = 0\n",
        "test_x = {}\n",
        "for l, emb in zip(index_test_l, test_emb):\n",
        "  if l in test_x.keys():\n",
        "    test_x[l]  =np.vstack([test_x[l], emb])\n",
        "  else:\n",
        "    test_x[l] = [emb]\n",
        "\n",
        "len(test_x.keys())"
      ]
    },
    {
      "cell_type": "markdown",
      "source": [
        "Получаем полученные объединенные векторные представления от модели трансформера и соответствующие метки"
      ],
      "metadata": {
        "id": "itEnZ7CBWkYs"
      }
    },
    {
      "cell_type": "code",
      "execution_count": null,
      "metadata": {
        "id": "JWFPXd--d1Xe",
        "colab": {
          "base_uri": "https://localhost:8080/",
          "height": 175
        },
        "outputId": "a6853850-bab6-48b0-e15e-d9137d6c9f02"
      },
      "outputs": [
        {
          "output_type": "execute_result",
          "data": {
            "text/plain": [
              "                                                 emb  label\n",
              "0  [[-0.005423272, 0.09883099, 0.10688911, 0.0806...      8\n",
              "1  [[0.03969249, 0.088324286, 0.22027038, -0.0202...      0\n",
              "2  [[0.052948043, 0.1777511, 0.14543754, 0.072575...      0\n",
              "3  [[0.054888383, 0.074569985, 0.13509154, 0.0952...      0"
            ],
            "text/html": [
              "\n",
              "  <div id=\"df-2c1c1899-d0ac-4caa-a95d-c9e5f747d65b\" class=\"colab-df-container\">\n",
              "    <div>\n",
              "<style scoped>\n",
              "    .dataframe tbody tr th:only-of-type {\n",
              "        vertical-align: middle;\n",
              "    }\n",
              "\n",
              "    .dataframe tbody tr th {\n",
              "        vertical-align: top;\n",
              "    }\n",
              "\n",
              "    .dataframe thead th {\n",
              "        text-align: right;\n",
              "    }\n",
              "</style>\n",
              "<table border=\"1\" class=\"dataframe\">\n",
              "  <thead>\n",
              "    <tr style=\"text-align: right;\">\n",
              "      <th></th>\n",
              "      <th>emb</th>\n",
              "      <th>label</th>\n",
              "    </tr>\n",
              "  </thead>\n",
              "  <tbody>\n",
              "    <tr>\n",
              "      <th>0</th>\n",
              "      <td>[[-0.005423272, 0.09883099, 0.10688911, 0.0806...</td>\n",
              "      <td>8</td>\n",
              "    </tr>\n",
              "    <tr>\n",
              "      <th>1</th>\n",
              "      <td>[[0.03969249, 0.088324286, 0.22027038, -0.0202...</td>\n",
              "      <td>0</td>\n",
              "    </tr>\n",
              "    <tr>\n",
              "      <th>2</th>\n",
              "      <td>[[0.052948043, 0.1777511, 0.14543754, 0.072575...</td>\n",
              "      <td>0</td>\n",
              "    </tr>\n",
              "    <tr>\n",
              "      <th>3</th>\n",
              "      <td>[[0.054888383, 0.074569985, 0.13509154, 0.0952...</td>\n",
              "      <td>0</td>\n",
              "    </tr>\n",
              "  </tbody>\n",
              "</table>\n",
              "</div>\n",
              "    <div class=\"colab-df-buttons\">\n",
              "\n",
              "  <div class=\"colab-df-container\">\n",
              "    <button class=\"colab-df-convert\" onclick=\"convertToInteractive('df-2c1c1899-d0ac-4caa-a95d-c9e5f747d65b')\"\n",
              "            title=\"Convert this dataframe to an interactive table.\"\n",
              "            style=\"display:none;\">\n",
              "\n",
              "  <svg xmlns=\"http://www.w3.org/2000/svg\" height=\"24px\" viewBox=\"0 -960 960 960\">\n",
              "    <path d=\"M120-120v-720h720v720H120Zm60-500h600v-160H180v160Zm220 220h160v-160H400v160Zm0 220h160v-160H400v160ZM180-400h160v-160H180v160Zm440 0h160v-160H620v160ZM180-180h160v-160H180v160Zm440 0h160v-160H620v160Z\"/>\n",
              "  </svg>\n",
              "    </button>\n",
              "\n",
              "  <style>\n",
              "    .colab-df-container {\n",
              "      display:flex;\n",
              "      gap: 12px;\n",
              "    }\n",
              "\n",
              "    .colab-df-convert {\n",
              "      background-color: #E8F0FE;\n",
              "      border: none;\n",
              "      border-radius: 50%;\n",
              "      cursor: pointer;\n",
              "      display: none;\n",
              "      fill: #1967D2;\n",
              "      height: 32px;\n",
              "      padding: 0 0 0 0;\n",
              "      width: 32px;\n",
              "    }\n",
              "\n",
              "    .colab-df-convert:hover {\n",
              "      background-color: #E2EBFA;\n",
              "      box-shadow: 0px 1px 2px rgba(60, 64, 67, 0.3), 0px 1px 3px 1px rgba(60, 64, 67, 0.15);\n",
              "      fill: #174EA6;\n",
              "    }\n",
              "\n",
              "    .colab-df-buttons div {\n",
              "      margin-bottom: 4px;\n",
              "    }\n",
              "\n",
              "    [theme=dark] .colab-df-convert {\n",
              "      background-color: #3B4455;\n",
              "      fill: #D2E3FC;\n",
              "    }\n",
              "\n",
              "    [theme=dark] .colab-df-convert:hover {\n",
              "      background-color: #434B5C;\n",
              "      box-shadow: 0px 1px 3px 1px rgba(0, 0, 0, 0.15);\n",
              "      filter: drop-shadow(0px 1px 2px rgba(0, 0, 0, 0.3));\n",
              "      fill: #FFFFFF;\n",
              "    }\n",
              "  </style>\n",
              "\n",
              "    <script>\n",
              "      const buttonEl =\n",
              "        document.querySelector('#df-2c1c1899-d0ac-4caa-a95d-c9e5f747d65b button.colab-df-convert');\n",
              "      buttonEl.style.display =\n",
              "        google.colab.kernel.accessAllowed ? 'block' : 'none';\n",
              "\n",
              "      async function convertToInteractive(key) {\n",
              "        const element = document.querySelector('#df-2c1c1899-d0ac-4caa-a95d-c9e5f747d65b');\n",
              "        const dataTable =\n",
              "          await google.colab.kernel.invokeFunction('convertToInteractive',\n",
              "                                                    [key], {});\n",
              "        if (!dataTable) return;\n",
              "\n",
              "        const docLinkHtml = 'Like what you see? Visit the ' +\n",
              "          '<a target=\"_blank\" href=https://colab.research.google.com/notebooks/data_table.ipynb>data table notebook</a>'\n",
              "          + ' to learn more about interactive tables.';\n",
              "        element.innerHTML = '';\n",
              "        dataTable['output_type'] = 'display_data';\n",
              "        await google.colab.output.renderOutput(dataTable, element);\n",
              "        const docLink = document.createElement('div');\n",
              "        docLink.innerHTML = docLinkHtml;\n",
              "        element.appendChild(docLink);\n",
              "      }\n",
              "    </script>\n",
              "  </div>\n",
              "\n",
              "\n",
              "<div id=\"df-90f7bae6-10a4-40bd-9407-d80a17b8ab2c\">\n",
              "  <button class=\"colab-df-quickchart\" onclick=\"quickchart('df-90f7bae6-10a4-40bd-9407-d80a17b8ab2c')\"\n",
              "            title=\"Suggest charts\"\n",
              "            style=\"display:none;\">\n",
              "\n",
              "<svg xmlns=\"http://www.w3.org/2000/svg\" height=\"24px\"viewBox=\"0 0 24 24\"\n",
              "     width=\"24px\">\n",
              "    <g>\n",
              "        <path d=\"M19 3H5c-1.1 0-2 .9-2 2v14c0 1.1.9 2 2 2h14c1.1 0 2-.9 2-2V5c0-1.1-.9-2-2-2zM9 17H7v-7h2v7zm4 0h-2V7h2v10zm4 0h-2v-4h2v4z\"/>\n",
              "    </g>\n",
              "</svg>\n",
              "  </button>\n",
              "\n",
              "<style>\n",
              "  .colab-df-quickchart {\n",
              "      --bg-color: #E8F0FE;\n",
              "      --fill-color: #1967D2;\n",
              "      --hover-bg-color: #E2EBFA;\n",
              "      --hover-fill-color: #174EA6;\n",
              "      --disabled-fill-color: #AAA;\n",
              "      --disabled-bg-color: #DDD;\n",
              "  }\n",
              "\n",
              "  [theme=dark] .colab-df-quickchart {\n",
              "      --bg-color: #3B4455;\n",
              "      --fill-color: #D2E3FC;\n",
              "      --hover-bg-color: #434B5C;\n",
              "      --hover-fill-color: #FFFFFF;\n",
              "      --disabled-bg-color: #3B4455;\n",
              "      --disabled-fill-color: #666;\n",
              "  }\n",
              "\n",
              "  .colab-df-quickchart {\n",
              "    background-color: var(--bg-color);\n",
              "    border: none;\n",
              "    border-radius: 50%;\n",
              "    cursor: pointer;\n",
              "    display: none;\n",
              "    fill: var(--fill-color);\n",
              "    height: 32px;\n",
              "    padding: 0;\n",
              "    width: 32px;\n",
              "  }\n",
              "\n",
              "  .colab-df-quickchart:hover {\n",
              "    background-color: var(--hover-bg-color);\n",
              "    box-shadow: 0 1px 2px rgba(60, 64, 67, 0.3), 0 1px 3px 1px rgba(60, 64, 67, 0.15);\n",
              "    fill: var(--button-hover-fill-color);\n",
              "  }\n",
              "\n",
              "  .colab-df-quickchart-complete:disabled,\n",
              "  .colab-df-quickchart-complete:disabled:hover {\n",
              "    background-color: var(--disabled-bg-color);\n",
              "    fill: var(--disabled-fill-color);\n",
              "    box-shadow: none;\n",
              "  }\n",
              "\n",
              "  .colab-df-spinner {\n",
              "    border: 2px solid var(--fill-color);\n",
              "    border-color: transparent;\n",
              "    border-bottom-color: var(--fill-color);\n",
              "    animation:\n",
              "      spin 1s steps(1) infinite;\n",
              "  }\n",
              "\n",
              "  @keyframes spin {\n",
              "    0% {\n",
              "      border-color: transparent;\n",
              "      border-bottom-color: var(--fill-color);\n",
              "      border-left-color: var(--fill-color);\n",
              "    }\n",
              "    20% {\n",
              "      border-color: transparent;\n",
              "      border-left-color: var(--fill-color);\n",
              "      border-top-color: var(--fill-color);\n",
              "    }\n",
              "    30% {\n",
              "      border-color: transparent;\n",
              "      border-left-color: var(--fill-color);\n",
              "      border-top-color: var(--fill-color);\n",
              "      border-right-color: var(--fill-color);\n",
              "    }\n",
              "    40% {\n",
              "      border-color: transparent;\n",
              "      border-right-color: var(--fill-color);\n",
              "      border-top-color: var(--fill-color);\n",
              "    }\n",
              "    60% {\n",
              "      border-color: transparent;\n",
              "      border-right-color: var(--fill-color);\n",
              "    }\n",
              "    80% {\n",
              "      border-color: transparent;\n",
              "      border-right-color: var(--fill-color);\n",
              "      border-bottom-color: var(--fill-color);\n",
              "    }\n",
              "    90% {\n",
              "      border-color: transparent;\n",
              "      border-bottom-color: var(--fill-color);\n",
              "    }\n",
              "  }\n",
              "</style>\n",
              "\n",
              "  <script>\n",
              "    async function quickchart(key) {\n",
              "      const quickchartButtonEl =\n",
              "        document.querySelector('#' + key + ' button');\n",
              "      quickchartButtonEl.disabled = true;  // To prevent multiple clicks.\n",
              "      quickchartButtonEl.classList.add('colab-df-spinner');\n",
              "      try {\n",
              "        const charts = await google.colab.kernel.invokeFunction(\n",
              "            'suggestCharts', [key], {});\n",
              "      } catch (error) {\n",
              "        console.error('Error during call to suggestCharts:', error);\n",
              "      }\n",
              "      quickchartButtonEl.classList.remove('colab-df-spinner');\n",
              "      quickchartButtonEl.classList.add('colab-df-quickchart-complete');\n",
              "    }\n",
              "    (() => {\n",
              "      let quickchartButtonEl =\n",
              "        document.querySelector('#df-90f7bae6-10a4-40bd-9407-d80a17b8ab2c button');\n",
              "      quickchartButtonEl.style.display =\n",
              "        google.colab.kernel.accessAllowed ? 'block' : 'none';\n",
              "    })();\n",
              "  </script>\n",
              "</div>\n",
              "    </div>\n",
              "  </div>\n"
            ],
            "application/vnd.google.colaboratory.intrinsic+json": {
              "type": "dataframe",
              "variable_name": "df_test_true",
              "summary": "{\n  \"name\": \"df_test_true\",\n  \"rows\": 4,\n  \"fields\": [\n    {\n      \"column\": \"emb\",\n      \"properties\": {\n        \"dtype\": \"object\",\n        \"semantic_type\": \"\",\n        \"description\": \"\"\n      }\n    },\n    {\n      \"column\": \"label\",\n      \"properties\": {\n        \"dtype\": \"number\",\n        \"std\": 4,\n        \"min\": 0,\n        \"max\": 8,\n        \"num_unique_values\": 2,\n        \"samples\": [\n          0,\n          8\n        ],\n        \"semantic_type\": \"\",\n        \"description\": \"\"\n      }\n    }\n  ]\n}"
            }
          },
          "metadata": {},
          "execution_count": 65
        }
      ],
      "source": [
        "test_l_final = []\n",
        "label_test_l_final = []\n",
        "for k in test_x.keys():\n",
        "  test_l_final.append(test_x[k])\n",
        "  label_test_l_final.append(df_more.loc[k]['Метка'])\n",
        "\n",
        "df_test_true = pd.DataFrame({'emb': test_l_final, 'label': label_test_l_final, })\n",
        "df_test_true.head()"
      ]
    },
    {
      "cell_type": "markdown",
      "metadata": {
        "id": "SFbHa8EbjQer"
      },
      "source": [
        "### Классификация"
      ]
    },
    {
      "cell_type": "code",
      "execution_count": null,
      "metadata": {
        "id": "dc2odjZugz0N"
      },
      "outputs": [],
      "source": [
        "test_emb  = df_test_true"
      ]
    },
    {
      "cell_type": "markdown",
      "source": [
        "Приведение эмбеддингов к одной длине"
      ],
      "metadata": {
        "id": "5IbkG_DHW5Dt"
      }
    },
    {
      "cell_type": "code",
      "execution_count": null,
      "metadata": {
        "id": "hWHztoQkTMoy"
      },
      "outputs": [],
      "source": [
        "def together(df):\n",
        "    df[\"length\"] = df['emb'].apply(lambda x : len(x))\n",
        "    max_lenght = 4\n",
        "\n",
        "    x_list= df['emb'].to_list()\n",
        "    y_list = df.label.to_list()\n",
        "\n",
        "    embs=[]\n",
        "    labels_y=[]\n",
        "\n",
        "    for i in range(len(x_list)):\n",
        "        x_train = np.full((768*max_lenght), -99.)\n",
        "        y_train = np.zeros((1))\n",
        "\n",
        "        if len(x_list[i])==1:\n",
        "            x_train[0:768] = x_list[i][0]\n",
        "            y_train = y_list[i]\n",
        "        else:\n",
        "            num=len(x_list[i])\n",
        "            x_train[0:768*num] = x_list[i].reshape(1, 768*num)\n",
        "            y_train = y_list[i]\n",
        "\n",
        "        embs.append(x_train)\n",
        "        labels_y.append(y_train)\n",
        "    return embs, labels_y"
      ]
    },
    {
      "cell_type": "code",
      "execution_count": null,
      "metadata": {
        "id": "HF1dzW_qEwsl"
      },
      "outputs": [],
      "source": [
        "embs, labels = together(test_emb)"
      ]
    },
    {
      "cell_type": "code",
      "execution_count": null,
      "metadata": {
        "id": "dT8frU8upne3"
      },
      "outputs": [],
      "source": [
        "embs = np.asarray(embs)"
      ]
    },
    {
      "cell_type": "code",
      "execution_count": null,
      "metadata": {
        "id": "-FNkFZXnsDqE"
      },
      "outputs": [],
      "source": [
        "labels = np.asarray(labels)"
      ]
    },
    {
      "cell_type": "code",
      "execution_count": null,
      "metadata": {
        "id": "RUHrBb--sbMH"
      },
      "outputs": [],
      "source": [
        "emb_new = np.expand_dims(embs, 1)"
      ]
    },
    {
      "cell_type": "markdown",
      "source": [
        "Создание маски для указание модели на специальный токен заполения (аналогично токенизатору модели BERT)"
      ],
      "metadata": {
        "id": "-zJe14KtXMO_"
      }
    },
    {
      "cell_type": "code",
      "execution_count": null,
      "metadata": {
        "id": "qMLZZuTFkqbb"
      },
      "outputs": [],
      "source": [
        "import torch\n",
        "import torch.nn as nn\n",
        "\n",
        "bert_embeddings = torch.tensor(emb_new)\n",
        "ignore_value_mask = (bert_embeddings != -99.)\n",
        "\n",
        "masked_bert_embeddings_test = bert_embeddings * ignore_value_mask.float()"
      ]
    },
    {
      "cell_type": "code",
      "execution_count": null,
      "metadata": {
        "id": "Stm1GO7hkqbb"
      },
      "outputs": [],
      "source": [
        "masked_bert_embeddings_test = np.asarray(masked_bert_embeddings_test)"
      ]
    },
    {
      "cell_type": "code",
      "execution_count": null,
      "metadata": {
        "id": "xwaEozsKdFE5",
        "colab": {
          "base_uri": "https://localhost:8080/"
        },
        "outputId": "a8aef87c-21f0-4896-a846-cdc9f338b6ae"
      },
      "outputs": [
        {
          "output_type": "stream",
          "name": "stdout",
          "text": [
            "1/1 [==============================] - 2s 2s/step\n"
          ]
        }
      ],
      "source": [
        "y_pred = model_lstm.predict(masked_bert_embeddings_test, batch_size=1000, verbose=1)\n",
        "y_pred_b = np.argmax(y_pred, axis=1)"
      ]
    },
    {
      "cell_type": "code",
      "source": [
        "df_more['Метка'] = y_pred_b"
      ],
      "metadata": {
        "id": "YYoEousszs0k"
      },
      "execution_count": null,
      "outputs": []
    },
    {
      "cell_type": "markdown",
      "source": [
        "Объединение результатов классификации двух блоков менее и более 512 токенов"
      ],
      "metadata": {
        "id": "OyzCszeBXcE8"
      }
    },
    {
      "cell_type": "code",
      "source": [
        "df_all = pd.concat([df_less, df_more])"
      ],
      "metadata": {
        "id": "FfjMURhbhlm_"
      },
      "execution_count": null,
      "outputs": []
    },
    {
      "cell_type": "code",
      "execution_count": null,
      "metadata": {
        "id": "j145YMnyexMd"
      },
      "outputs": [],
      "source": [
        "from sklearn.metrics import classification_report"
      ]
    },
    {
      "cell_type": "code",
      "source": [
        "\n",
        "report = classification_report(\n",
        "    df_all['True_label'],\n",
        "    df_all['Pred_label'],\n",
        "\n",
        ")\n",
        "print(report)"
      ],
      "metadata": {
        "id": "KWIDuDJpl3no",
        "colab": {
          "base_uri": "https://localhost:8080/"
        },
        "outputId": "5a34b2c9-eb2f-4a83-a2d5-50a7937be0fd"
      },
      "execution_count": null,
      "outputs": [
        {
          "output_type": "stream",
          "name": "stdout",
          "text": [
            "              precision    recall  f1-score   support\n",
            "\n",
            "           0       0.84      0.84      0.84       653\n",
            "           1       0.89      0.87      0.88       345\n",
            "           2       0.75      0.80      0.77       137\n",
            "           3       0.84      0.95      0.90       288\n",
            "           4       0.88      0.72      0.79       193\n",
            "           5       0.91      0.83      0.87       148\n",
            "           6       0.86      0.86      0.86      1231\n",
            "           7       0.91      0.85      0.88       136\n",
            "           8       0.76      0.81      0.78       354\n",
            "           9       0.84      0.84      0.84       310\n",
            "\n",
            "    accuracy                           0.85      3795\n",
            "   macro avg       0.85      0.84      0.84      3795\n",
            "weighted avg       0.85      0.85      0.85      3795\n",
            "\n"
          ]
        }
      ]
    },
    {
      "cell_type": "markdown",
      "source": [
        "### Соотношение меток"
      ],
      "metadata": {
        "id": "6dAunA0Aw7bj"
      }
    },
    {
      "cell_type": "code",
      "source": [
        "encoded_labels = df['Метка']"
      ],
      "metadata": {
        "id": "kHygph8zXqaK"
      },
      "execution_count": null,
      "outputs": []
    },
    {
      "cell_type": "code",
      "source": [
        "label_mapping = dict(zip(label_encoder.classes_, label_encoder.transform(label_encoder.classes_)))\n",
        "\n",
        "print(\"Соотношение реальных меток и новых меток:\")\n",
        "for label, encoded_label in label_mapping.items():\n",
        "    print(f\"{label}: {encoded_label}\")\n"
      ],
      "metadata": {
        "colab": {
          "base_uri": "https://localhost:8080/"
        },
        "id": "7YrkDXYIWd7q",
        "outputId": "f7466e90-12d5-49d8-e78d-f06d1037b695"
      },
      "execution_count": null,
      "outputs": [
        {
          "output_type": "stream",
          "name": "stdout",
          "text": [
            "Соотношение реальных меток и новых меток:\n",
            "cancer: 0\n",
            "immunity: 1\n",
            "immunodeficiency: 2\n",
            "inflammation: 3\n",
            "rheumatoid arthritis: 4\n",
            "sepsis: 5\n",
            "systemic lupus erythematosus: 6\n",
            "tuberculosis: 7\n"
          ]
        }
      ]
    },
    {
      "cell_type": "code",
      "source": [],
      "metadata": {
        "id": "UNpsc6QlrS4S"
      },
      "execution_count": null,
      "outputs": []
    },
    {
      "cell_type": "code",
      "source": [],
      "metadata": {
        "id": "Qeo_u7Ubk_DN"
      },
      "execution_count": null,
      "outputs": []
    }
  ]
}