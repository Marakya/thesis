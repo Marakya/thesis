{
  "nbformat": 4,
  "nbformat_minor": 0,
  "metadata": {
    "colab": {
      "provenance": [],
      "toc_visible": true
    },
    "kernelspec": {
      "name": "python3",
      "display_name": "Python 3"
    },
    "language_info": {
      "name": "python"
    }
  },
  "cells": [
    {
      "cell_type": "markdown",
      "source": [
        "# Парсер"
      ],
      "metadata": {
        "id": "cbmQhW6xk2ml"
      }
    },
    {
      "cell_type": "markdown",
      "source": [
        "При работе с сылками на статьи с ресурса Arxiv.org"
      ],
      "metadata": {
        "id": "FH4fOgmw8tHP"
      }
    },
    {
      "cell_type": "code",
      "source": [
        "pip install BeautifulSoup4"
      ],
      "metadata": {
        "colab": {
          "base_uri": "https://localhost:8080/"
        },
        "id": "j6g-bQGfUoRO",
        "outputId": "d5875b51-4974-4292-9ea5-f7237a2c0bb3"
      },
      "execution_count": null,
      "outputs": [
        {
          "output_type": "stream",
          "name": "stdout",
          "text": [
            "Requirement already satisfied: BeautifulSoup4 in /usr/local/lib/python3.10/dist-packages (4.12.3)\n",
            "Requirement already satisfied: soupsieve>1.2 in /usr/local/lib/python3.10/dist-packages (from BeautifulSoup4) (2.5)\n"
          ]
        }
      ]
    },
    {
      "cell_type": "code",
      "execution_count": null,
      "metadata": {
        "id": "OQVBnVly-i28"
      },
      "outputs": [],
      "source": [
        "import re\n",
        "from bs4 import BeautifulSoup\n",
        "import requests\n",
        "\n",
        "url = 'https://arxiv.org/abs/2402.15030'"
      ]
    },
    {
      "cell_type": "code",
      "source": [
        "import pandas as pd\n",
        "import pickle"
      ],
      "metadata": {
        "id": "1NSG58I3eSO1"
      },
      "execution_count": null,
      "outputs": []
    },
    {
      "cell_type": "code",
      "source": [
        "headers = {\n",
        "    \"Accept\": \"text/html,application/xhtml+xml,application/xml;q=0.9,image/avif,image/webp,image/apng,*/*;q=0.8,application/signed-exchange;v=b3;q=0.7\",\n",
        "    \"User-Agent\": \"Mozilla/5.0 (Windows NT 10.0; Win64; x64) AppleWebKit/537.36 (KHTML, like Gecko) Chrome/121.0.0.0 Safari/537.36 OPR/107.0.0.0\"\n",
        "}"
      ],
      "metadata": {
        "id": "jW3s-vaaYQ04"
      },
      "execution_count": null,
      "outputs": []
    },
    {
      "cell_type": "code",
      "source": [
        "req = requests.get(url=url, headers=headers)"
      ],
      "metadata": {
        "id": "_IBVLzK1UzkG"
      },
      "execution_count": null,
      "outputs": []
    },
    {
      "cell_type": "code",
      "source": [
        "src = req.text"
      ],
      "metadata": {
        "id": "8G0hXIZLVDKu"
      },
      "execution_count": null,
      "outputs": []
    },
    {
      "cell_type": "code",
      "source": [
        "soup = BeautifulSoup(src, \"lxml\")"
      ],
      "metadata": {
        "colab": {
          "base_uri": "https://localhost:8080/"
        },
        "id": "unJSincUk2Gw",
        "outputId": "95329e4e-b716-48f6-f616-105776e4390d"
      },
      "execution_count": null,
      "outputs": [
        {
          "output_type": "stream",
          "name": "stderr",
          "text": [
            "<ipython-input-7-7e7a0a7b1572>:1: XMLParsedAsHTMLWarning: It looks like you're parsing an XML document using an HTML parser. If this really is an HTML document (maybe it's XHTML?), you can ignore or filter this warning. If it's XML, you should know that using an XML parser will be more reliable. To parse this document as XML, make sure you have the lxml package installed, and pass the keyword argument `features=\"xml\"` into the BeautifulSoup constructor.\n",
            "  soup = BeautifulSoup(src, \"lxml\")\n"
          ]
        }
      ]
    },
    {
      "cell_type": "code",
      "source": [
        "abstracts = soup.find_all(class_='abstract mathjax')"
      ],
      "metadata": {
        "id": "oiB5O-NgZtuP"
      },
      "execution_count": null,
      "outputs": []
    },
    {
      "cell_type": "code",
      "source": [
        "list_abstracts = []\n",
        "for item in abstracts:\n",
        "  el = item.text\n",
        "  el  = re.sub(r\"\\n\",\"\", el)\n",
        "  el  = re.sub(r\"    \",\"\", el)\n",
        "  el  = re.sub(r\"Abstract:\",\"\", el)\n",
        "  list_abstracts.append(el)"
      ],
      "metadata": {
        "id": "804zS__5ZtwX"
      },
      "execution_count": null,
      "outputs": []
    },
    {
      "cell_type": "code",
      "source": [
        "titles = soup.find_all(class_='title mathjax')"
      ],
      "metadata": {
        "id": "B1YSyij4xclY"
      },
      "execution_count": null,
      "outputs": []
    },
    {
      "cell_type": "code",
      "source": [
        "list_titles = []\n",
        "for item in titles:\n",
        "  el = item.text\n",
        "  el  = re.sub(r\"\\n\",\"\", el)\n",
        "  el  = re.sub(r\"Title:\",\"\", el)\n",
        "  list_titles.append(el)"
      ],
      "metadata": {
        "id": "gtPCmjf5xclY"
      },
      "execution_count": null,
      "outputs": []
    },
    {
      "cell_type": "code",
      "source": [
        "list_titles"
      ],
      "metadata": {
        "colab": {
          "base_uri": "https://localhost:8080/"
        },
        "outputId": "a6c39320-1d56-418c-e3d4-784d17da0d48",
        "id": "pP0LAIaJxclZ"
      },
      "execution_count": null,
      "outputs": [
        {
          "output_type": "execute_result",
          "data": {
            "text/plain": [
              "['Adjusting for Ascertainment Bias in Meta-Analysis of Penetrance for Cancer Risk']"
            ]
          },
          "metadata": {},
          "execution_count": 49
        }
      ]
    },
    {
      "cell_type": "code",
      "source": [
        "list_labels = [0]*len(list_titles)"
      ],
      "metadata": {
        "id": "cBWmUMCry7F_"
      },
      "execution_count": null,
      "outputs": []
    },
    {
      "cell_type": "markdown",
      "source": [
        "Запись данных в один датасет"
      ],
      "metadata": {
        "id": "F78ybw7082nm"
      }
    },
    {
      "cell_type": "code",
      "source": [
        "df = pd.DataFrame(list(zip(list_titles, list_abstracts, list_labels, list_links)), columns = ['Название', 'Абстракт', 'Метка', 'Ссылка'])"
      ],
      "metadata": {
        "id": "7zfYsT1cx0Ig"
      },
      "execution_count": null,
      "outputs": []
    },
    {
      "cell_type": "markdown",
      "source": [
        "# Эксплуатация"
      ],
      "metadata": {
        "id": "s1m0Pb7Lk6Rd"
      }
    },
    {
      "cell_type": "markdown",
      "source": [
        "Идея оптимизированного метода заключается в том, что тексты более и менее 512 токенов обрабатываются отдельно.\n",
        "\n",
        "В начале необходимо отсортировать тексты по длине входной последовательности. Тексты длиной менее 512 токенов образуют группу А, а более - группу В, как показано на рисунке 15. Таким образом, сформированы два блока текстов, группа А – не требует разбиения на сегменты, группа В содержит только длинные тексты, именно к ней применяется метод по разбиению текстов на сегменты\n",
        "\n",
        "![image.png](data:image/png;base64,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)"
      ],
      "metadata": {
        "id": "r3peLwqjmppi"
      }
    },
    {
      "cell_type": "markdown",
      "source": [
        "## Загрузка и предобработка данных"
      ],
      "metadata": {
        "id": "tAZoxh8g_QeL"
      }
    },
    {
      "cell_type": "code",
      "source": [
        "from nltk.tokenize import word_tokenize\n",
        "from sklearn.preprocessing import LabelEncoder"
      ],
      "metadata": {
        "id": "_kMVUZv2Y5Jh"
      },
      "execution_count": null,
      "outputs": []
    },
    {
      "cell_type": "markdown",
      "source": [
        "В качестве набора данных используются данные медицинских статей, полученные с платформы Arxiv.org\n",
        "\n",
        "\n",
        "[Ссылка](https://www.kaggle.com/datasets/ekaterinamayatskaya/medical-articles)"
      ],
      "metadata": {
        "id": "7J2XTaEYJRv6"
      }
    },
    {
      "cell_type": "code",
      "source": [
        "df = pd.read_pickle('df.pkl')"
      ],
      "metadata": {
        "id": "-HINulpIymQk"
      },
      "execution_count": null,
      "outputs": []
    },
    {
      "cell_type": "code",
      "execution_count": null,
      "metadata": {
        "id": "LJpvQV1ZymQl"
      },
      "outputs": [],
      "source": [
        "df =  df[['Абстракт', 'Метка']]"
      ]
    },
    {
      "cell_type": "code",
      "source": [
        "label_encoder = LabelEncoder()\n",
        "df['Метка'] = label_encoder.fit_transform(df['Метка'])"
      ],
      "metadata": {
        "id": "s2M40FfJY5Ji"
      },
      "execution_count": null,
      "outputs": []
    },
    {
      "cell_type": "markdown",
      "source": [
        "Оценка длины корпуса текстов"
      ],
      "metadata": {
        "id": "fpo_9NqOJfmZ"
      }
    },
    {
      "cell_type": "code",
      "source": [
        "df[\"length\"] = df[\"Абстракт\"].apply(lambda x : len(x.split()))\n",
        "\n",
        "print(\"Train Length Stat\")\n",
        "print(df[\"length\"].describe())"
      ],
      "metadata": {
        "id": "2UDyf8Wba35S",
        "colab": {
          "base_uri": "https://localhost:8080/"
        },
        "outputId": "eff99b70-a0f5-4e44-c159-546e238b10af"
      },
      "execution_count": null,
      "outputs": [
        {
          "output_type": "stream",
          "name": "stdout",
          "text": [
            "Train Length Stat\n",
            "count    3795.000000\n",
            "mean      180.003162\n",
            "std        60.718983\n",
            "min        18.000000\n",
            "25%       139.000000\n",
            "50%       179.000000\n",
            "75%       223.500000\n",
            "max       685.000000\n",
            "Name: length, dtype: float64\n"
          ]
        }
      ]
    },
    {
      "cell_type": "markdown",
      "source": [
        "Максимальная длина текста в корпусе 658 токенов, при ограничении модели BERT 512 токенов"
      ],
      "metadata": {
        "id": "fECu-017Jk6B"
      }
    },
    {
      "cell_type": "code",
      "source": [
        "df.reset_index(drop=True, inplace=True)"
      ],
      "metadata": {
        "id": "ja96H7Vizigl"
      },
      "execution_count": null,
      "outputs": []
    },
    {
      "cell_type": "markdown",
      "source": [
        "Сохранение текстов менее 512 токенов в отдельный датасет"
      ],
      "metadata": {
        "id": "tlBo1RMuJw5J"
      }
    },
    {
      "cell_type": "code",
      "source": [
        "df_less=df\n",
        "for i in range(len(df[\"Абстракт\"])):\n",
        "    if df[\"length\"][i] > 510:\n",
        "        # print(i)\n",
        "        df_less = df_less.drop(index= i)"
      ],
      "metadata": {
        "id": "6E2dcEYRd8By",
        "colab": {
          "base_uri": "https://localhost:8080/"
        },
        "outputId": "35d93a4b-a3a5-4305-d986-98eaf1f59696"
      },
      "execution_count": null,
      "outputs": [
        {
          "output_type": "stream",
          "name": "stdout",
          "text": [
            "503\n",
            "780\n",
            "1103\n",
            "3065\n"
          ]
        }
      ]
    },
    {
      "cell_type": "markdown",
      "source": [
        "Сохранение текстов более 512 токенов в отдельный датасет"
      ],
      "metadata": {
        "id": "vEK9uWndJ9A8"
      }
    },
    {
      "cell_type": "code",
      "source": [
        "df_more=df\n",
        "for i in range(len(df[\"Абстракт\"])):\n",
        "    if df[\"length\"][i] < 510:\n",
        "        df_more = df_more.drop(index= i)"
      ],
      "metadata": {
        "id": "EY_QQsnYeK43"
      },
      "execution_count": null,
      "outputs": []
    },
    {
      "cell_type": "markdown",
      "source": [
        "## Работа с текстами менее 512 токенов"
      ],
      "metadata": {
        "id": "z0zikyizi_ny"
      }
    },
    {
      "cell_type": "markdown",
      "source": [
        "### Кодировка текста"
      ],
      "metadata": {
        "id": "OwL2IHAbFu5p"
      }
    },
    {
      "cell_type": "markdown",
      "source": [
        "Функция случайного выбора батча"
      ],
      "metadata": {
        "id": "gvnyRA48MtGZ"
      }
    },
    {
      "cell_type": "code",
      "metadata": {
        "id": "9-XH-onI0npK"
      },
      "source": [
        "def good_update_interval(total_iters, num_desired_updates):\n",
        "    '''\n",
        "        Эта функция пытается выбрать интеллектуальный интервал обновления выбора батча\n",
        "        на основе величины общего количества итераций.\n",
        "\n",
        "        Параметры:\n",
        "            `total_iters` - количество итераций в цикле for.\n",
        "            `num_desired_updates` - сколько раз мы хотим видеть обновление в течение цикла for.\n",
        "    '''\n",
        "    # Разделить общее количество итераций на желаемое количество обновлений.\n",
        "    # Получится не очень красиво число\n",
        "    exact_interval = total_iters / num_desired_updates\n",
        "\n",
        "\n",
        "    # Чтобы определить величину, до которой нужно округлить, найдите величину итогового значения,\n",
        "    # а затем уменьшите ее на одну величину.\n",
        "\n",
        "    # Получите порядок величины от общего числа.\n",
        "    order_of_mag = len(str(total_iters)) - 1\n",
        "\n",
        "    # Интервал обновления должен быть округлен на порядок меньше.\n",
        "    round_mag = order_of_mag - 1\n",
        "\n",
        "    # Округлить в меньшую сторону и преобразовать в int.\n",
        "    update_interval = int(round(exact_interval, -round_mag))\n",
        "\n",
        "    # Не допускать, чтобы интервал был равен нулю!\n",
        "    if update_interval == 0:\n",
        "        update_interval = 1\n",
        "\n",
        "    return update_interval"
      ],
      "execution_count": null,
      "outputs": []
    },
    {
      "cell_type": "code",
      "source": [
        "import time\n",
        "import datetime\n",
        "\n",
        "def format_time(elapsed):\n",
        "    '''\n",
        "    Принимает время в секундах и возвращает строку чч:мм:сс\n",
        "    '''\n",
        "    # Округлить до ближайшей секунды.\n",
        "    elapsed_rounded = int(round((elapsed)))\n",
        "\n",
        "    # Формат вывода hh:mm:ss\n",
        "    return str(datetime.timedelta(seconds=elapsed_rounded))"
      ],
      "metadata": {
        "id": "IgB7i4sx0npL"
      },
      "execution_count": null,
      "outputs": []
    },
    {
      "cell_type": "markdown",
      "source": [
        "Загрузка токенизатора и модели BERT, в качестве базовой модели взят трансформер предобученный на медицинских статьях"
      ],
      "metadata": {
        "id": "dBZSzu41P9zL"
      }
    },
    {
      "cell_type": "code",
      "source": [
        "from transformers import BertTokenizer\n",
        "\n",
        "tokenizer = BertTokenizer.from_pretrained('bert-base-uncased', do_lower_case=True)"
      ],
      "metadata": {
        "colab": {
          "base_uri": "https://localhost:8080/"
        },
        "outputId": "840e04e0-63f9-4edb-b32a-27bf951b1bce",
        "id": "HWF2EbRVbQ5n"
      },
      "execution_count": null,
      "outputs": [
        {
          "output_type": "stream",
          "name": "stderr",
          "text": [
            "/usr/local/lib/python3.10/dist-packages/huggingface_hub/utils/_token.py:88: UserWarning: \n",
            "The secret `HF_TOKEN` does not exist in your Colab secrets.\n",
            "To authenticate with the Hugging Face Hub, create a token in your settings tab (https://huggingface.co/settings/tokens), set it as secret in your Google Colab and restart your session.\n",
            "You will be able to reuse this secret in all of your notebooks.\n",
            "Please note that authentication is recommended but still optional to access public models or datasets.\n",
            "  warnings.warn(\n"
          ]
        }
      ]
    },
    {
      "cell_type": "code",
      "source": [
        "from transformers import  BertModel\n",
        "\n",
        "model = BertModel.from_pretrained('bert-base-uncased', output_hidden_states = True)"
      ],
      "metadata": {
        "id": "xu8J7-NVjVs9"
      },
      "execution_count": null,
      "outputs": []
    },
    {
      "cell_type": "markdown",
      "source": [
        "Модели необходимо указать устройство для проведения всех математических операций"
      ],
      "metadata": {
        "id": "kcbB2NyGQcLp"
      }
    },
    {
      "cell_type": "code",
      "source": [
        "device = torch.device(\"cuda\") if torch.cuda.is_available() else torch.device(\"cpu\")\n",
        "model.to(device)\n",
        "print('  GPU:', torch.cuda.get_device_name(0))\n"
      ],
      "metadata": {
        "colab": {
          "base_uri": "https://localhost:8080/"
        },
        "outputId": "b717db6a-7583-4342-893e-39b4f6ebcb11",
        "id": "Vj16UefmjVtJ"
      },
      "execution_count": null,
      "outputs": [
        {
          "output_type": "stream",
          "name": "stdout",
          "text": [
            "  GPU: Tesla T4\n"
          ]
        }
      ]
    },
    {
      "cell_type": "markdown",
      "source": [
        "Выделение меток, текстов и максимальной длины"
      ],
      "metadata": {
        "id": "V2kfWZdfQvXL"
      }
    },
    {
      "cell_type": "code",
      "source": [
        "labels = df_less['Метка'].to_numpy()"
      ],
      "metadata": {
        "id": "OhnTNrO0fAm5"
      },
      "execution_count": null,
      "outputs": []
    },
    {
      "cell_type": "code",
      "source": [
        "corpus = df_less['Абстракт'].to_numpy()"
      ],
      "metadata": {
        "id": "d5DXvXbrfAm6"
      },
      "execution_count": null,
      "outputs": []
    },
    {
      "cell_type": "code",
      "source": [
        "max_len = df_less[\"length\"].max()"
      ],
      "metadata": {
        "id": "TFKSxli0bQ5n"
      },
      "execution_count": null,
      "outputs": []
    },
    {
      "cell_type": "markdown",
      "source": [
        "Функция формирования батчей, описанным методом"
      ],
      "metadata": {
        "id": "XIva-TaeQ3Pk"
      }
    },
    {
      "cell_type": "code",
      "source": [
        "def make_smart_batches(text_samples, labels, batch_size):\n",
        "    '''\n",
        "    Эта функция объединяет все необходимые шаги для приготовления батчей.\n",
        "    '''\n",
        "\n",
        "    print('Creating Smart Batches from {:,} examples with batch size {:,}...\\n'.format(len(text_samples), batch_size))\n",
        "\n",
        "    # =========================\n",
        "    #   Токенизация & Усечение\n",
        "    # =========================\n",
        "\n",
        "    full_input_ids = []\n",
        "\n",
        "    # Токенизация всех сэмплов\n",
        "    print('Tokenizing {:,} samples...'.format(len(labels)))\n",
        "\n",
        "    # Выбрать интервал обновления батчей\n",
        "    update_interval = good_update_interval(total_iters=len(labels), num_desired_updates=10)\n",
        "\n",
        "    # Для каждого тренировочного сэмпла проводим токенизацию\n",
        "    for text in text_samples:\n",
        "\n",
        "        # Отчет о прогрессе\n",
        "        if ((len(full_input_ids) % update_interval) == 0):\n",
        "            print('  Tokenized {:,} samples.'.format(len(full_input_ids)))\n",
        "\n",
        "        # Токенизация\n",
        "        input_ids = tokenizer.encode(text=text,              # Текст для кодировки\n",
        "                                    add_special_tokens=True, # Добавить специальные токены\n",
        "                                    max_length=max_len,      # Максимальная длина обрезания текста\n",
        "                                    truncation=True,         # Маркер необходимо ли усечение\n",
        "                                    padding=False)           # Маркер необходим ли паддинг\n",
        "\n",
        "        # Добавляем результат в список\n",
        "        full_input_ids.append(input_ids)\n",
        "\n",
        "    print('DONE.')\n",
        "    print('{:>10,} samples\\n'.format(len(full_input_ids)))\n",
        "\n",
        "    # =========================\n",
        "    #      Выбор батчей\n",
        "    # =========================\n",
        "\n",
        "    # Отсортируем два списка вместе по длине входной последовательности.\n",
        "    samples = sorted(zip(full_input_ids, labels), key=lambda x: len(x[0]))\n",
        "\n",
        "    print('{:>10,} samples after sorting\\n'.format(len(samples)))\n",
        "\n",
        "    import random\n",
        "\n",
        "    # Список батчей, которые мы создадим.\n",
        "    batch_ordered_sentences = []\n",
        "    batch_ordered_labels = []\n",
        "\n",
        "    print('Creating batches of size {:}...'.format(batch_size))\n",
        "\n",
        "    # Выберите интервал обновления батчей\n",
        "    update_interval = good_update_interval(total_iters=len(samples), num_desired_updates=10)\n",
        "\n",
        "    # Проходимся по всем сэмплам\n",
        "    while len(samples) > 0:\n",
        "\n",
        "        # Вывод прогресса\n",
        "        if ((len(batch_ordered_sentences) % update_interval) == 0 \\\n",
        "            and not len(batch_ordered_sentences) == 0):\n",
        "            print('  Selected {:,} batches.'.format(len(batch_ordered_sentences)))\n",
        "\n",
        "        # `to_take` - это фактический размер партии. Он будет `batch_size` до тех пор, пока\n",
        "        # мы не дойдем до последней партии, которая может быть меньше.\n",
        "        to_take = min(batch_size, len(samples))\n",
        "\n",
        "        # Выберите случайный индекс в списке оставшихся батчей, чтобы проводить\n",
        "        # отбор случайно\n",
        "        select = random.randint(0, len(samples) - to_take)\n",
        "\n",
        "        # Выберите непрерыную партию батчей начиная с `select`.\n",
        "        #print(\"Selecting batch from {:} to {:}\".format(select, select+to_take))\n",
        "        batch = samples[select:(select + to_take)]\n",
        "\n",
        "        #print(\"Batch length:\", len(batch))\n",
        "\n",
        "        # Каждый образец представляет собой кортеж - разделите их на части, чтобы создать отдельный список\n",
        "        # последовательностей текста и список меток для этого пакета.\n",
        "        batch_ordered_sentences.append([s[0] for s in batch])\n",
        "        batch_ordered_labels.append([s[1] for s in batch])\n",
        "\n",
        "        # Удаляем из списка уже использованные батчи\n",
        "        del samples[select:select + to_take]\n",
        "\n",
        "    print('\\n  DONE - Selected {:,} batches.\\n'.format(len(batch_ordered_sentences)))\n",
        "\n",
        "    # =========================\n",
        "    #        Добавка паддинга\n",
        "    # =========================\n",
        "\n",
        "    print('Padding out sequences within each batch...')\n",
        "\n",
        "    py_inputs = []\n",
        "    py_attn_masks = []\n",
        "    py_labels = []\n",
        "    lab=[]\n",
        "    # Для каждого батча..\n",
        "    for (batch_inputs, batch_labels) in zip(batch_ordered_sentences, batch_ordered_labels):\n",
        "\n",
        "        # Новая версия батча, на этот раз с дополненными последовательностями до максимальной длины, а также\n",
        "        # с маской внимания.\n",
        "        batch_padded_inputs = []\n",
        "        batch_attn_masks = []\n",
        "\n",
        "        # Сначала найдите самый длинный образец в батче.\n",
        "        # Обратите внимание, что в настоящее время последовательности содержат специальные токены!\n",
        "        max_size = max([len(sen) for sen in batch_inputs])\n",
        "\n",
        "        # Для каждого текста в батче\n",
        "        for sen in batch_inputs:\n",
        "\n",
        "            # Сколько специальных токенов необходимо добавить\n",
        "            num_pads = max_size - len(sen)\n",
        "\n",
        "            # Добавьте токены заполнения `num_pads` в конец последовательности.\n",
        "            padded_input = sen + [tokenizer.pad_token_id]*num_pads\n",
        "\n",
        "            # Определить маску внимания, это - `1` для реального токена\n",
        "            # и - `0` для специального токена\n",
        "            attn_mask = [1] * len(sen) + [0] * num_pads\n",
        "\n",
        "            # Добавить результат в список\n",
        "            batch_padded_inputs.append(padded_input)\n",
        "            batch_attn_masks.append(attn_mask)\n",
        "\n",
        "        # В каждом батче был проведен паддинг, поэтому нам нужно сохранить этот обновленный пакет.\n",
        "        # Нам также нужно, чтобы входные данные были тензорами PyTorch.\n",
        "        py_inputs.append(torch.tensor(batch_padded_inputs))\n",
        "        py_attn_masks.append(torch.tensor(batch_attn_masks))\n",
        "        py_labels.append(torch.tensor(batch_labels))\n",
        "        lab.append(batch_labels)\n",
        "\n",
        "\n",
        "    print('  DONE.')\n",
        "\n",
        "    # Возвращаем данные\n",
        "    return (py_inputs, py_attn_masks, py_labels, lab)"
      ],
      "metadata": {
        "id": "GKJqTyyF1SO0"
      },
      "execution_count": null,
      "outputs": []
    },
    {
      "cell_type": "markdown",
      "source": [
        "Гиперпараметры"
      ],
      "metadata": {
        "id": "A95Gm0eaR8v0"
      }
    },
    {
      "cell_type": "code",
      "source": [
        "batch_size=8"
      ],
      "metadata": {
        "id": "d7YT3DgXR8MT"
      },
      "execution_count": null,
      "outputs": []
    },
    {
      "cell_type": "markdown",
      "source": [
        "Функция, производящая взятие среднего для вектора каждого слова"
      ],
      "metadata": {
        "id": "9z1egYZPRGP7"
      }
    },
    {
      "cell_type": "markdown",
      "source": [
        "Слой last_hidden_state выдает вектор размерности 3, где для каждого слова формируется вектор размерности 768, работа с такими данными требует больших вычислительных ресурсов. Для решения данной проблемы необходимо взять среднее значение для векторов слов. На выходе получаем, что каждое слово характеризуется одним числом, каждый текст - это вектор размерности 768"
      ],
      "metadata": {
        "id": "fJpb6jcGRP5J"
      }
    },
    {
      "cell_type": "code",
      "source": [
        "def mean_pooling(model_output, attention_mask):\n",
        "    token_embeddings = model_output['last_hidden_state']\n",
        "    input_mask_expanded = attention_mask.unsqueeze(-1).expand(token_embeddings.size()).float()\n",
        "    sum_embeddings = torch.sum(token_embeddings * input_mask_expanded, 1)\n",
        "    sum_mask = torch.clamp(input_mask_expanded.sum(1), min=1e-9)\n",
        "    return sum_embeddings / sum_mask"
      ],
      "metadata": {
        "id": "6P0VR4Vc1SO1"
      },
      "execution_count": null,
      "outputs": []
    },
    {
      "cell_type": "markdown",
      "source": [
        "Токенизация текста"
      ],
      "metadata": {
        "id": "nrGD3ryUR_Qs"
      }
    },
    {
      "cell_type": "code",
      "source": [
        "(py_inputs, py_attn_masks, py_labels, labe) = make_smart_batches(corpus,labels, batch_size)"
      ],
      "metadata": {
        "colab": {
          "base_uri": "https://localhost:8080/"
        },
        "outputId": "044fb71d-feef-478b-c145-f88303ee359d",
        "id": "kK5JEYAb1SO2"
      },
      "execution_count": null,
      "outputs": [
        {
          "output_type": "stream",
          "name": "stdout",
          "text": [
            "Creating Smart Batches from 3,791 examples with batch size 8...\n",
            "\n",
            "Tokenizing 3,791 samples...\n",
            "  Tokenized 0 samples.\n",
            "  Tokenized 400 samples.\n",
            "  Tokenized 800 samples.\n",
            "  Tokenized 1,200 samples.\n",
            "  Tokenized 1,600 samples.\n",
            "  Tokenized 2,000 samples.\n",
            "  Tokenized 2,400 samples.\n",
            "  Tokenized 2,800 samples.\n",
            "  Tokenized 3,200 samples.\n",
            "  Tokenized 3,600 samples.\n",
            "DONE.\n",
            "     3,791 samples\n",
            "\n",
            "     3,791 samples after sorting\n",
            "\n",
            "Creating batches of size 8...\n",
            "  Selected 400 batches.\n",
            "\n",
            "  DONE - Selected 474 batches.\n",
            "\n",
            "Padding out sequences within each batch...\n",
            "  DONE.\n"
          ]
        }
      ]
    },
    {
      "cell_type": "markdown",
      "source": [
        "Получение векторных представлений корпуса текстов"
      ],
      "metadata": {
        "id": "UAaQfUdASHWq"
      }
    },
    {
      "cell_type": "code",
      "source": [
        "\n",
        "model.eval()\n",
        "\n",
        "lab=torch.Tensor().to(device)\n",
        "embeddings = torch.Tensor().to(device)\n",
        "\n",
        "# Выбор интервала обновления\n",
        "update_interval = good_update_interval(total_iters=len(py_inputs), num_desired_updates=16)\n",
        "\n",
        "# Фиксирование времени начала\n",
        "t0 = time.time()\n",
        "\n",
        "# Переведите модель в режим оценки\n",
        "model.eval()\n",
        "latency = []\n",
        "# Проходимся по каждому батчу\n",
        "for step in range(0, len(py_inputs)):\n",
        "\n",
        "    # Вывод прогресса для каждый 100 батчей\n",
        "    if step % update_interval == 0 and not step == 0:\n",
        "\n",
        "        elapsed = format_time(time.time() - t0)\n",
        "\n",
        "        steps_per_sec = (time.time() - t0) / step\n",
        "        remaining_sec = steps_per_sec * (len(py_inputs) - step)\n",
        "        remaining = format_time(remaining_sec)\n",
        "\n",
        "\n",
        "        print('  Batch {:>7,}  of  {:>7,}.    Elapsed: {:}.  Remaining: {:}'.format(step, len(py_inputs), elapsed, remaining))\n",
        "\n",
        "    # Передача данных на GPU\n",
        "    b_input_ids = py_inputs[step].to(device)\n",
        "    b_input_mask = py_attn_masks[step].to(device)\n",
        "    b_labels = py_labels[step].to(device)\n",
        "\n",
        "\n",
        "    with torch.no_grad():\n",
        "        start = time.time()\n",
        "        result = model(b_input_ids)\n",
        "        latency.append(time.time() - start)\n",
        "        embeddings = torch.cat([embeddings, mean_pooling(result, b_input_mask)])\n",
        "embeddings = embeddings.cpu().numpy()\n",
        "print(\"PyTorch {} Inference time = {} ms\".format(device.type, format(sum(latency) * 1000 / len(latency), '.2f')))"
      ],
      "metadata": {
        "colab": {
          "base_uri": "https://localhost:8080/"
        },
        "outputId": "b925c38e-2bb7-4661-ec71-50b60558889f",
        "id": "4OLsuQzj1SO2"
      },
      "execution_count": null,
      "outputs": [
        {
          "output_type": "stream",
          "name": "stderr",
          "text": [
            "We strongly recommend passing in an `attention_mask` since your input_ids may be padded. See https://huggingface.co/docs/transformers/troubleshooting#incorrect-output-when-padding-tokens-arent-masked.\n"
          ]
        },
        {
          "output_type": "stream",
          "name": "stdout",
          "text": [
            "  Batch      30  of      474.    Elapsed: 0:00:05.  Remaining: 0:01:20\n",
            "  Batch      60  of      474.    Elapsed: 0:00:09.  Remaining: 0:01:04\n",
            "  Batch      90  of      474.    Elapsed: 0:00:13.  Remaining: 0:00:57\n",
            "  Batch     120  of      474.    Elapsed: 0:00:17.  Remaining: 0:00:51\n",
            "  Batch     150  of      474.    Elapsed: 0:00:21.  Remaining: 0:00:46\n",
            "  Batch     180  of      474.    Elapsed: 0:00:25.  Remaining: 0:00:41\n",
            "  Batch     210  of      474.    Elapsed: 0:00:30.  Remaining: 0:00:37\n",
            "  Batch     240  of      474.    Elapsed: 0:00:34.  Remaining: 0:00:33\n",
            "  Batch     270  of      474.    Elapsed: 0:00:38.  Remaining: 0:00:29\n",
            "  Batch     300  of      474.    Elapsed: 0:00:42.  Remaining: 0:00:24\n",
            "  Batch     330  of      474.    Elapsed: 0:00:46.  Remaining: 0:00:20\n",
            "  Batch     360  of      474.    Elapsed: 0:00:50.  Remaining: 0:00:16\n",
            "  Batch     390  of      474.    Elapsed: 0:00:53.  Remaining: 0:00:12\n",
            "  Batch     420  of      474.    Elapsed: 0:00:58.  Remaining: 0:00:07\n",
            "  Batch     450  of      474.    Elapsed: 0:01:02.  Remaining: 0:00:03\n",
            "PyTorch cuda Inference time = 15.90 ms\n"
          ]
        }
      ]
    },
    {
      "cell_type": "markdown",
      "source": [
        "### Классификация"
      ],
      "metadata": {
        "id": "avaZG2ixTRGR"
      }
    },
    {
      "cell_type": "code",
      "source": [
        "import keras"
      ],
      "metadata": {
        "id": "7B_aHAL91R85"
      },
      "execution_count": null,
      "outputs": []
    },
    {
      "cell_type": "code",
      "source": [
        "labe_list = [item for sublist in labe for item in sublist]"
      ],
      "metadata": {
        "id": "YAaFgWaVYRA6"
      },
      "execution_count": null,
      "outputs": []
    },
    {
      "cell_type": "markdown",
      "source": [
        "Загрузка предобученной реккурентой сети"
      ],
      "metadata": {
        "id": "iwdMhOoUTkNE"
      }
    },
    {
      "cell_type": "code",
      "source": [
        "model_lstm_batch = keras.models.load_model('model_lstm_batch.keras')"
      ],
      "metadata": {
        "id": "wacvIKYmYRDc"
      },
      "execution_count": null,
      "outputs": []
    },
    {
      "cell_type": "code",
      "source": [
        "emb=np.array(embeddings)"
      ],
      "metadata": {
        "id": "PDmu-suiZxXO"
      },
      "execution_count": null,
      "outputs": []
    },
    {
      "cell_type": "markdown",
      "source": [
        "Добавление третьего временного измерения. Это необходимо для подачи данных в рекурентную нейронную сеть!"
      ],
      "metadata": {
        "id": "UwiZWzn1TpV1"
      }
    },
    {
      "cell_type": "code",
      "source": [
        "emb = np.expand_dims(emb, 1)"
      ],
      "metadata": {
        "id": "nCGj9Lm9ZxXO"
      },
      "execution_count": null,
      "outputs": []
    },
    {
      "cell_type": "code",
      "source": [
        "labe_list = np.asarray(labe_list)"
      ],
      "metadata": {
        "id": "BWXWhsafZxXO"
      },
      "execution_count": null,
      "outputs": []
    },
    {
      "cell_type": "markdown",
      "source": [
        "Получение предсказаний"
      ],
      "metadata": {
        "id": "egEj3CnjUKqt"
      }
    },
    {
      "cell_type": "code",
      "execution_count": null,
      "metadata": {
        "colab": {
          "base_uri": "https://localhost:8080/"
        },
        "outputId": "ea6af0ec-d78d-49c5-ba56-44efb25562f3",
        "id": "hesHdrl_ZxXQ"
      },
      "outputs": [
        {
          "output_type": "stream",
          "name": "stdout",
          "text": [
            "8/8 [==============================] - 1s 9ms/step\n"
          ]
        }
      ],
      "source": [
        "y_pred = model_lstm_batch.predict(emb, batch_size=500, verbose=1)\n",
        "y_pred_b = np.argmax(y_pred, axis=1)"
      ]
    },
    {
      "cell_type": "code",
      "source": [
        "df_less['Метка'] = y_pred_b"
      ],
      "metadata": {
        "id": "HGjKbR3jzfoL"
      },
      "execution_count": null,
      "outputs": []
    },
    {
      "cell_type": "markdown",
      "source": [
        "## Работа с текстами более 512 токенов"
      ],
      "metadata": {
        "id": "DWfnwX1zrTQT"
      }
    },
    {
      "cell_type": "markdown",
      "source": [
        "### Кодировка текста"
      ],
      "metadata": {
        "id": "X6RtrK9aF_qI"
      }
    },
    {
      "cell_type": "markdown",
      "source": [
        "Загрузка обученной модели BERT и модели LSTM для классификации"
      ],
      "metadata": {
        "id": "GgR_q0FvU6V3"
      }
    },
    {
      "cell_type": "code",
      "source": [
        "model_bert = torch.load('bert_model')"
      ],
      "metadata": {
        "id": "VQwZ_t4_XOpB"
      },
      "execution_count": null,
      "outputs": []
    },
    {
      "cell_type": "code",
      "source": [
        "model_lstm = keras.models.load_model('model_lstm.keras')"
      ],
      "metadata": {
        "id": "7DAZ48_DXOpL"
      },
      "execution_count": null,
      "outputs": []
    },
    {
      "cell_type": "code",
      "execution_count": null,
      "metadata": {
        "colab": {
          "base_uri": "https://localhost:8080/"
        },
        "id": "PBKyFsG-EzFW",
        "outputId": "7a1e5c19-f1e3-4905-f8bc-62de7e8dd33f"
      },
      "outputs": [
        {
          "output_type": "execute_result",
          "data": {
            "text/plain": [
              "[0, 8]"
            ]
          },
          "metadata": {},
          "execution_count": 48
        }
      ],
      "source": [
        "DATA_COLUMN = 'Абстракт'\n",
        "LABEL_COLUMN = 'Метка'\n",
        "\n",
        "label_list = [x for x in np.unique(df_more['Метка'])]\n",
        "label_list"
      ]
    },
    {
      "cell_type": "markdown",
      "metadata": {
        "id": "TzSltMtsl5mP"
      },
      "source": [
        "Разбиение текстов на сегменты по 510 токенов каждый с перекрытием в 50 токенов"
      ]
    },
    {
      "cell_type": "code",
      "execution_count": null,
      "metadata": {
        "id": "MF9uwoBrr_Xg"
      },
      "outputs": [],
      "source": [
        "def get_split(text1):\n",
        "  l_total = []\n",
        "  l_parcial = []\n",
        "  if len(text1.split())//460 >0:\n",
        "    n = len(text1.split())//460\n",
        "  else:\n",
        "    n = 1\n",
        "  for w in range(n+1):\n",
        "    if w == 0:\n",
        "      l_parcial = text1.split()[:510]\n",
        "      l_total.append(\" \".join(l_parcial))\n",
        "    else:\n",
        "      l_parcial = text1.split()[w*460:w*460 + 510]\n",
        "      l_total.append(\" \".join(l_parcial))\n",
        "  return l_total"
      ]
    },
    {
      "cell_type": "code",
      "execution_count": null,
      "metadata": {
        "colab": {
          "base_uri": "https://localhost:8080/",
          "height": 175
        },
        "id": "UqoD1rRNEzJ8",
        "outputId": "12996e45-5e3a-49ff-a4c8-85d658f3efba"
      },
      "outputs": [
        {
          "output_type": "execute_result",
          "data": {
            "text/plain": [
              "                                               Абстракт  Метка  length  \\\n",
              "503   ETHNOPHARMACOLOGICAL RELEVANCE: As a commonly ...      8     660   \n",
              "780   STUDY QUESTION: Are differences in androgen le...      0     685   \n",
              "1103  STUDY QUESTION: Is psychosocial stress associa...      0     511   \n",
              "3065  STUDY QUESTION: Is bisphenol A (BPA) exposure ...      0     674   \n",
              "\n",
              "                                             text_split  \n",
              "503   [ETHNOPHARMACOLOGICAL RELEVANCE: As a commonly...  \n",
              "780   [STUDY QUESTION: Are differences in androgen l...  \n",
              "1103  [STUDY QUESTION: Is psychosocial stress associ...  \n",
              "3065  [STUDY QUESTION: Is bisphenol A (BPA) exposure...  "
            ],
            "text/html": [
              "\n",
              "  <div id=\"df-f67f1f46-b5aa-4ef6-b8f7-15ff641cabd0\" class=\"colab-df-container\">\n",
              "    <div>\n",
              "<style scoped>\n",
              "    .dataframe tbody tr th:only-of-type {\n",
              "        vertical-align: middle;\n",
              "    }\n",
              "\n",
              "    .dataframe tbody tr th {\n",
              "        vertical-align: top;\n",
              "    }\n",
              "\n",
              "    .dataframe thead th {\n",
              "        text-align: right;\n",
              "    }\n",
              "</style>\n",
              "<table border=\"1\" class=\"dataframe\">\n",
              "  <thead>\n",
              "    <tr style=\"text-align: right;\">\n",
              "      <th></th>\n",
              "      <th>Абстракт</th>\n",
              "      <th>Метка</th>\n",
              "      <th>length</th>\n",
              "      <th>text_split</th>\n",
              "    </tr>\n",
              "  </thead>\n",
              "  <tbody>\n",
              "    <tr>\n",
              "      <th>503</th>\n",
              "      <td>ETHNOPHARMACOLOGICAL RELEVANCE: As a commonly ...</td>\n",
              "      <td>8</td>\n",
              "      <td>660</td>\n",
              "      <td>[ETHNOPHARMACOLOGICAL RELEVANCE: As a commonly...</td>\n",
              "    </tr>\n",
              "    <tr>\n",
              "      <th>780</th>\n",
              "      <td>STUDY QUESTION: Are differences in androgen le...</td>\n",
              "      <td>0</td>\n",
              "      <td>685</td>\n",
              "      <td>[STUDY QUESTION: Are differences in androgen l...</td>\n",
              "    </tr>\n",
              "    <tr>\n",
              "      <th>1103</th>\n",
              "      <td>STUDY QUESTION: Is psychosocial stress associa...</td>\n",
              "      <td>0</td>\n",
              "      <td>511</td>\n",
              "      <td>[STUDY QUESTION: Is psychosocial stress associ...</td>\n",
              "    </tr>\n",
              "    <tr>\n",
              "      <th>3065</th>\n",
              "      <td>STUDY QUESTION: Is bisphenol A (BPA) exposure ...</td>\n",
              "      <td>0</td>\n",
              "      <td>674</td>\n",
              "      <td>[STUDY QUESTION: Is bisphenol A (BPA) exposure...</td>\n",
              "    </tr>\n",
              "  </tbody>\n",
              "</table>\n",
              "</div>\n",
              "    <div class=\"colab-df-buttons\">\n",
              "\n",
              "  <div class=\"colab-df-container\">\n",
              "    <button class=\"colab-df-convert\" onclick=\"convertToInteractive('df-f67f1f46-b5aa-4ef6-b8f7-15ff641cabd0')\"\n",
              "            title=\"Convert this dataframe to an interactive table.\"\n",
              "            style=\"display:none;\">\n",
              "\n",
              "  <svg xmlns=\"http://www.w3.org/2000/svg\" height=\"24px\" viewBox=\"0 -960 960 960\">\n",
              "    <path d=\"M120-120v-720h720v720H120Zm60-500h600v-160H180v160Zm220 220h160v-160H400v160Zm0 220h160v-160H400v160ZM180-400h160v-160H180v160Zm440 0h160v-160H620v160ZM180-180h160v-160H180v160Zm440 0h160v-160H620v160Z\"/>\n",
              "  </svg>\n",
              "    </button>\n",
              "\n",
              "  <style>\n",
              "    .colab-df-container {\n",
              "      display:flex;\n",
              "      gap: 12px;\n",
              "    }\n",
              "\n",
              "    .colab-df-convert {\n",
              "      background-color: #E8F0FE;\n",
              "      border: none;\n",
              "      border-radius: 50%;\n",
              "      cursor: pointer;\n",
              "      display: none;\n",
              "      fill: #1967D2;\n",
              "      height: 32px;\n",
              "      padding: 0 0 0 0;\n",
              "      width: 32px;\n",
              "    }\n",
              "\n",
              "    .colab-df-convert:hover {\n",
              "      background-color: #E2EBFA;\n",
              "      box-shadow: 0px 1px 2px rgba(60, 64, 67, 0.3), 0px 1px 3px 1px rgba(60, 64, 67, 0.15);\n",
              "      fill: #174EA6;\n",
              "    }\n",
              "\n",
              "    .colab-df-buttons div {\n",
              "      margin-bottom: 4px;\n",
              "    }\n",
              "\n",
              "    [theme=dark] .colab-df-convert {\n",
              "      background-color: #3B4455;\n",
              "      fill: #D2E3FC;\n",
              "    }\n",
              "\n",
              "    [theme=dark] .colab-df-convert:hover {\n",
              "      background-color: #434B5C;\n",
              "      box-shadow: 0px 1px 3px 1px rgba(0, 0, 0, 0.15);\n",
              "      filter: drop-shadow(0px 1px 2px rgba(0, 0, 0, 0.3));\n",
              "      fill: #FFFFFF;\n",
              "    }\n",
              "  </style>\n",
              "\n",
              "    <script>\n",
              "      const buttonEl =\n",
              "        document.querySelector('#df-f67f1f46-b5aa-4ef6-b8f7-15ff641cabd0 button.colab-df-convert');\n",
              "      buttonEl.style.display =\n",
              "        google.colab.kernel.accessAllowed ? 'block' : 'none';\n",
              "\n",
              "      async function convertToInteractive(key) {\n",
              "        const element = document.querySelector('#df-f67f1f46-b5aa-4ef6-b8f7-15ff641cabd0');\n",
              "        const dataTable =\n",
              "          await google.colab.kernel.invokeFunction('convertToInteractive',\n",
              "                                                    [key], {});\n",
              "        if (!dataTable) return;\n",
              "\n",
              "        const docLinkHtml = 'Like what you see? Visit the ' +\n",
              "          '<a target=\"_blank\" href=https://colab.research.google.com/notebooks/data_table.ipynb>data table notebook</a>'\n",
              "          + ' to learn more about interactive tables.';\n",
              "        element.innerHTML = '';\n",
              "        dataTable['output_type'] = 'display_data';\n",
              "        await google.colab.output.renderOutput(dataTable, element);\n",
              "        const docLink = document.createElement('div');\n",
              "        docLink.innerHTML = docLinkHtml;\n",
              "        element.appendChild(docLink);\n",
              "      }\n",
              "    </script>\n",
              "  </div>\n",
              "\n",
              "\n",
              "<div id=\"df-96b146c0-d468-4683-8484-1cc8ef34f4fa\">\n",
              "  <button class=\"colab-df-quickchart\" onclick=\"quickchart('df-96b146c0-d468-4683-8484-1cc8ef34f4fa')\"\n",
              "            title=\"Suggest charts\"\n",
              "            style=\"display:none;\">\n",
              "\n",
              "<svg xmlns=\"http://www.w3.org/2000/svg\" height=\"24px\"viewBox=\"0 0 24 24\"\n",
              "     width=\"24px\">\n",
              "    <g>\n",
              "        <path d=\"M19 3H5c-1.1 0-2 .9-2 2v14c0 1.1.9 2 2 2h14c1.1 0 2-.9 2-2V5c0-1.1-.9-2-2-2zM9 17H7v-7h2v7zm4 0h-2V7h2v10zm4 0h-2v-4h2v4z\"/>\n",
              "    </g>\n",
              "</svg>\n",
              "  </button>\n",
              "\n",
              "<style>\n",
              "  .colab-df-quickchart {\n",
              "      --bg-color: #E8F0FE;\n",
              "      --fill-color: #1967D2;\n",
              "      --hover-bg-color: #E2EBFA;\n",
              "      --hover-fill-color: #174EA6;\n",
              "      --disabled-fill-color: #AAA;\n",
              "      --disabled-bg-color: #DDD;\n",
              "  }\n",
              "\n",
              "  [theme=dark] .colab-df-quickchart {\n",
              "      --bg-color: #3B4455;\n",
              "      --fill-color: #D2E3FC;\n",
              "      --hover-bg-color: #434B5C;\n",
              "      --hover-fill-color: #FFFFFF;\n",
              "      --disabled-bg-color: #3B4455;\n",
              "      --disabled-fill-color: #666;\n",
              "  }\n",
              "\n",
              "  .colab-df-quickchart {\n",
              "    background-color: var(--bg-color);\n",
              "    border: none;\n",
              "    border-radius: 50%;\n",
              "    cursor: pointer;\n",
              "    display: none;\n",
              "    fill: var(--fill-color);\n",
              "    height: 32px;\n",
              "    padding: 0;\n",
              "    width: 32px;\n",
              "  }\n",
              "\n",
              "  .colab-df-quickchart:hover {\n",
              "    background-color: var(--hover-bg-color);\n",
              "    box-shadow: 0 1px 2px rgba(60, 64, 67, 0.3), 0 1px 3px 1px rgba(60, 64, 67, 0.15);\n",
              "    fill: var(--button-hover-fill-color);\n",
              "  }\n",
              "\n",
              "  .colab-df-quickchart-complete:disabled,\n",
              "  .colab-df-quickchart-complete:disabled:hover {\n",
              "    background-color: var(--disabled-bg-color);\n",
              "    fill: var(--disabled-fill-color);\n",
              "    box-shadow: none;\n",
              "  }\n",
              "\n",
              "  .colab-df-spinner {\n",
              "    border: 2px solid var(--fill-color);\n",
              "    border-color: transparent;\n",
              "    border-bottom-color: var(--fill-color);\n",
              "    animation:\n",
              "      spin 1s steps(1) infinite;\n",
              "  }\n",
              "\n",
              "  @keyframes spin {\n",
              "    0% {\n",
              "      border-color: transparent;\n",
              "      border-bottom-color: var(--fill-color);\n",
              "      border-left-color: var(--fill-color);\n",
              "    }\n",
              "    20% {\n",
              "      border-color: transparent;\n",
              "      border-left-color: var(--fill-color);\n",
              "      border-top-color: var(--fill-color);\n",
              "    }\n",
              "    30% {\n",
              "      border-color: transparent;\n",
              "      border-left-color: var(--fill-color);\n",
              "      border-top-color: var(--fill-color);\n",
              "      border-right-color: var(--fill-color);\n",
              "    }\n",
              "    40% {\n",
              "      border-color: transparent;\n",
              "      border-right-color: var(--fill-color);\n",
              "      border-top-color: var(--fill-color);\n",
              "    }\n",
              "    60% {\n",
              "      border-color: transparent;\n",
              "      border-right-color: var(--fill-color);\n",
              "    }\n",
              "    80% {\n",
              "      border-color: transparent;\n",
              "      border-right-color: var(--fill-color);\n",
              "      border-bottom-color: var(--fill-color);\n",
              "    }\n",
              "    90% {\n",
              "      border-color: transparent;\n",
              "      border-bottom-color: var(--fill-color);\n",
              "    }\n",
              "  }\n",
              "</style>\n",
              "\n",
              "  <script>\n",
              "    async function quickchart(key) {\n",
              "      const quickchartButtonEl =\n",
              "        document.querySelector('#' + key + ' button');\n",
              "      quickchartButtonEl.disabled = true;  // To prevent multiple clicks.\n",
              "      quickchartButtonEl.classList.add('colab-df-spinner');\n",
              "      try {\n",
              "        const charts = await google.colab.kernel.invokeFunction(\n",
              "            'suggestCharts', [key], {});\n",
              "      } catch (error) {\n",
              "        console.error('Error during call to suggestCharts:', error);\n",
              "      }\n",
              "      quickchartButtonEl.classList.remove('colab-df-spinner');\n",
              "      quickchartButtonEl.classList.add('colab-df-quickchart-complete');\n",
              "    }\n",
              "    (() => {\n",
              "      let quickchartButtonEl =\n",
              "        document.querySelector('#df-96b146c0-d468-4683-8484-1cc8ef34f4fa button');\n",
              "      quickchartButtonEl.style.display =\n",
              "        google.colab.kernel.accessAllowed ? 'block' : 'none';\n",
              "    })();\n",
              "  </script>\n",
              "</div>\n",
              "    </div>\n",
              "  </div>\n"
            ],
            "application/vnd.google.colaboratory.intrinsic+json": {
              "type": "dataframe",
              "variable_name": "df_more",
              "summary": "{\n  \"name\": \"df_more\",\n  \"rows\": 4,\n  \"fields\": [\n    {\n      \"column\": \"\\u0410\\u0431\\u0441\\u0442\\u0440\\u0430\\u043a\\u0442\",\n      \"properties\": {\n        \"dtype\": \"string\",\n        \"num_unique_values\": 4,\n        \"samples\": [\n          \"STUDY QUESTION: Are differences in androgen levels among women with various forms of ovarian dysfunction associated with cardiometabolic abnormalities?\\r\\nSUMMARY ANSWER: Androgen levels differed substantially between women with and without ovarian dysfunction, and increased androgen levels were associated with impaired cardiometabolic features in all women irrespective of their clinical condition.\\r\\nWHAT IS KNOWN ALREADY: Sex steroid hormones play important roles in the development of cardiovascular diseases (CVD). Extremes of low as well as high androgen levels have been associated with increased CVD risk in both men and women.\\r\\nSTUDY DESIGN, SIZE, DURATION: This cross-sectional study included 680 women with polycystic ovary syndrome (PCOS), premature ovarian insufficiency (POI), natural post-menopausal women (NM), or regular menstrual cycles (RC) (170 women per group).\\r\\nPARTICIPANTS/MATERIALS, SETTING, METHODS: Measurements of serum testosterone, androstenedione and dehydroepiandrosterone sulfate were performed using liquid chromatography-tandem mass spectrometry. Assessments were taken of body mass index (BMI), blood pressure, lipid profiles, glucose, insulin and SHBG, and the bioactive fraction of circulating testosterone was calculated using the free androgen index (FAI).\\r\\nMAIN RESULTS AND THE ROLE OF CHANCE: PCOS women were hyperandrogenic [median FAI = 4.9 (IQR 3.6-7.4)], and POI women were hypoandrogenic [FAI = 1.2 (0.8-1.7)], compared with RC women [FAI = 1.7 (1.1-2.8)], after adjustment for age, ethnicity, smoking and BMI (P < 0.001). After adjustment for age, there were no significant differences in androgens between POI and NM (P = 0.15) women and between NM and RC (P = 0.27) women, the latter indicating that chronological aging rather than ovarian aging influences the differences between pre- and post-menopausal women. A high FAI was associated with elevated triglycerides (\\u03b2 log FAI for PCOS: 0.45, P < 0.001, POI: 0.25, P < 0.001, NM: 0.20, P = 0.002), insulin (\\u03b2 log FAI for PCOS: 0.77, POI: 0.44, NM: 0.40, all P < 0.001), HOMA-IR (\\u03b2 log FAI for PCOS: 0.82, POI: 0.46, NM: 0.47, all P < 0.001) and mean arterial pressure (\\u03b2 log FAI for PCOS: 0.05, P = 0.002, POI: 0.07, P < 0.001, NM: 0.04, P = 0.04) in all women; with increased glucose (\\u03b2 log FAI for PCOS: 0.05, P = 0.003, NM: 0.07, P < 0.001) and decreased high-density lipoprotein (\\u03b2 log FAI for PCOS: -0.23, P < 0.001, NM: -0.09, P = 0.03) in PCOS and NM women; and with increased low-density lipoprotein (\\u03b2 log FAI for POI: 0.083, P = 0.041) in POI women. Adjustment for BMI attenuated the observed associations. Associations between FAI and cardiometabolic features were the strongest in PCOS women, even after adjustment for BMI.\\r\\nLIMITATIONS, REASONS FOR CAUTION: Associations between androgen levels and cardiometabolic features were assessed in PCOS, POI and NM women only, due to a lack of available data in RC women. Due to the cross-sectional design of the current study, the potential associations between androgen levels and actual future cardiovascular events could not be assessed.\\r\\nWIDER IMPLICATIONS OF THE FINDINGS: This study affirms the potent effect of androgens on cardiometabolic features, indicating that androgens should indeed be regarded as important denominators of women's health. Future research regarding the role of androgens in the development of CVD and potential modulatory effects of BMI is required.\\r\\nSTUDY FUNDING/COMPETING INTERESTS: N.M.P.D. is supported by the Dutch Heart Foundation (grant number 2013T083). L.J. and O.H.F. work in ErasmusAGE, a center for aging research across the life course, funded by Nestl\\u00e9 Nutrition (Nestec Ltd), Metagenics Inc. and AXA. M.K. is supported by the AXA Research Fund. Nestl\\u00e9 Nutrition (Nestec Ltd), Metagenics Inc. and AXA had no role in the design and conduct of the study; the collection, management, analysis and interpretation of the data; or the preparation, review or approval of the manuscript. J.S.E.L. has received fees and grant support from the following companies (in alphabetical order): Ferring, Merck-Serono, Merck Sharpe & Dome, Organon, Schering Plough and Serono. In the last 5 years, B.C.J.M.F. has received fees and grant support from the following companies (in alphabetic order); Actavis, COGI, Euroscreen, Ferring, Finox, Genovum, Gedeon-Richter, Merck-Serono, OvaScience, Pantharei Bioscience, PregLem, Roche, Uteron and Watson laboratories. With regard to potential conflicts of interest, there is nothing further to disclose.\",\n          \"STUDY QUESTION: Is bisphenol A (BPA) exposure associated with the risk of endometriosis, an estrogen-driven disease of women of reproductive age?\\r\\nSUMMARY ANSWER: Our study suggests that increased urinary BPA is associated with an increased risk of non-ovarian pelvic endometriosis, but not ovarian endometriosis.\\r\\nWHAT IS KNOWN ALREADY: BPA, a high-volume chemical used in the polymer industry, has been the focus of public and scientific concern given its demonstrated estrogenic effects in vivo and in vitro and widespread human exposure. Prior studies of BPA and endometriosis have yielded inconsistent results and were limited by the participant sampling framework, small sample size or use of serum (which has very low/transient concentrations) instead of urine to measure BPA concentrations.\\r\\nSTUDY DESIGN, SIZE, DURATION: We used data from the Women's Risk of Endometriosis study, a population-based case-control study of endometriosis, conducted among female enrollees of a large healthcare system in the US Pacific Northwest. Cases were women with incident, surgically confirmed endometriosis diagnosed between 1996 and 2001 and controls were women randomly selected from the defined population that gave rise to the cases, without a current or prior diagnosis of endometriosis.\\r\\nPARTICIPANTS/MATERIALS, SETTINGS, METHODS: Total urinary BPA concentrations were measured in 143 cases and 287 population-based controls using single, spot urine samples collected after disease diagnosis in cases. Total urinary BPA concentration (free and conjugated species) was quantified using a high-performance liquid chromatography-mass spectrometry method. We estimated odds ratios (ORs) and 95% confidence intervals (CIs) using unconditional logistic regression, adjusting for urinary creatinine concentrations, age and reference year. We also evaluated the association by disease subtypes, ovarian and non-ovarian pelvic endometriosis, that may be etiologically distinct.\\r\\nMAIN RESULTS AND THE ROLE OF CHANCE: We did not observe a statistically significant association between total urinary BPA concentrations and endometriosis overall. We did observe statistically significant positive associations when evaluating total urinary BPA concentrations in relation to non-ovarian pelvic endometriosis (second versus lowest quartile: OR 3.0; 95% CI: 1.2, 7.3; third versus lowest quartile: OR 3.0; 95% CI: 1.1, 7.6), but not in relation to ovarian endometriosis.\\r\\nLIMITATIONS, REASONS FOR CAUTION: Given the short elimination half-life of BPA, our study was limited by the timing of collection of the single urine sample, that occurred after case diagnosis. Thus, our BPA measurements may not accurately represent the participants' levels during the etiologically relevant time period for endometriosis development. In addition, since it was not feasible in this population-based study to surgically confirm the absence of disease, it is possible that some controls may have had undiagnosed endometriosis.\\r\\nWIDER IMPLICATIONS OF THE FINDINGS: By using population-based data, it is more likely that the controls represented the underlying frequency of BPA exposure in contrast to prior studies that used for comparison control women undergoing surgical evaluation, where the indication for surgery may be associated with BPA exposure. The significant associations observed in this study suggest that BPA may affect the normal dynamic structural changes of hormonally responsive endometrial tissue during the menstrual cycle, promoting the establishment and persistence of refluxed endometrial tissue in cases with non-ovarian pelvic endometriosis. Further research is warranted to confirm our novel findings in endometriosis subtypes that may be etiologically distinct.\\r\\nSTUDY FUNDING/COMPETING INTERESTS: This work was supported by the National Institutes of Health, National Institute of Environmental Health Sciences (grant number R03 ES019976), the Eunice Kennedy Shriver National Institute of Child Health and Human Development (grant number R01 HD033792); US Environmental Protection Agency, Science to Achieve Results (STAR) (grant number R82943-01-0) and National Institute of Nursing Research (grant number F31NR013092) to KU for training support. This work was supported in part by the Intramural Research Program of the National Institutes of Health, National Institute of Environmental Health Sciences. The content is solely the responsibility of the authors and does not necessarily represent the official view of the National Institute of Child Health and Human Development, National Institute of Environmental Health Sciences, National Institute of Nursing Research or the National Institutes of Health. The authors have no actual or potential competing financial interests.\\r\\nTRIAL REGISTRATION NUMBER: Not applicable.\",\n          \"ETHNOPHARMACOLOGICAL RELEVANCE: As a commonly used traditional Chinese herbal medicine, Polygonati Rhizoma has high medicinal value, it can enhance the immune capacity of the body, regulate the metabolism of blood glucose and lipids, treat weakness of the stomach and intestines and physical fatigue, and so on. There are three plant varieties of Polygonati Rhizoma recorded in Chinese Pharmacopoeia, including Polygonatum sibiricum Red., Polygonatum kingianum Coll. et Hemsl. and Polygonatum cyrtonema Hua, compared with the first two, Polygonatum cyrtonema Hua is less studied. Polygonatum cyrtonema Hua is one of the basal plants of the Chinese herb Polygonati Rhizoma, that strengthens the spleen, moistens the lungs, and benefits the kidneys. Polygonatum polysaccharide is the main active substance of Polygonatum cyrtonema Hua, which has various biological effects of regulating immune system, anti-inflammatory, anti-antidepressant, antioxidant and other effects.\\r\\nAIM OF THE STUDY: In order to analyze the necessity and scientificity of multiple cycles of steaming during the traditional nine-steaming and nine-drying process of the concoction of Polygonatum, we investigated the changes in the composition and structure of polysaccharides, and explored its immunomodulatory activity and molecular biological mechanism.\\r\\nMETHODS: The structural characterization and molecular weight of polysaccharides were studied by scanning electron microscope (SEM), high-performance size exclusion chromatography-evaporative light scattering detector (HPSEC-ELSD) and Matrix.assisted laser resolutionu ionization time-of-flight mass spectrometry (MALDI-TOF-MS). The composition and proportion of monosaccharides were determined by PMP-HPLC method. A mouse immunosuppression model was established by intraperitoneal injection of cyclophosphamide to compare the immunomodulatory effects and mechanisms of different steaming times of Polygonatum, The changes of body mass and immune organ indices of mice were measured; the secretion levels of interleukin-2 (IL-2), interferon \\u03b3 (IFN-\\u03b3) and the expression levels of immunoglobulin M (IgM) and immunoglobulin A (IgA) in serum were determined by enzyme-linked immunosorbent assay; and then flow cytometry was used to detect T-lymphocyte subpopulations to evaluate the differences of immunomodulatory effects of polysaccharides during the processing and preparation of Polygonatum. Finally, the Illumina MiSeq high-throughput sequencing platform was used to analyze short-chain fatty acids and to investigate the effects of different steaming times of Polygonatum polysaccharides on immune function and intestinal flora in immunosuppressed mice.\\r\\nRESULTS: The structure of the Polygonatum polysaccharide with different steaming times changed significantly, the relative molecular weight of Polygonatum polysaccharide decreased significantly, and the monosaccharide composition of Polygonatum cyrtonema Hua with different steaming times was the same but the content was different. The immunomodulatory activity of the Polygonatum polysaccharide was enhanced after concoction, which significantly increased the spleen index and thymus index, and increased the expression of IL-2, IFN-\\u03b3, IgA and IgM. The CD4+/CD8+ ratio of Polygonatum polysaccharide also increased gradually with different steaming times, indicating enhanced immune function and significant immunomodulatory effect. The content of short-chain fatty acids in the feces of mice in both six steaming six sun-drying of Polygonatum polysaccharides (SYWPP) and nine steaming nine sun-drying of Polygonatum polysaccharides (NYWPP) groups increased significantly, including the content of propionic acid, isobutyric acid, valeric acid, and isovaleric acid, and also had a good effect on the regulation and improvement of microbial community abundance and diversity, SYWPP and NYWPP increased the relative abundance of Bacteroides and the ratio of Bacteroides and Firmicutes (B:F), while SYWPP significantly increased the abundance of Bacteroides, Alistipes and norank_f__Lachnospiraceae, but the effect of raw Polygonatum polysaccharides (RPP) and NYWPP was not significant than SYWPP.\\r\\nCONCLUSION: Overall, both SYWPP and NYWPP could significantly enhance the immune activity of the organism, improve the imbalance of intestinal flora in immunosuppressed mice, and increase the content of intestinal short chain fatty acids (SCFAs), it is noteworthy that SYWPP has a better effect on the improvement of the immune activity of the organism. These findings can explore the stage of the concoction process of Polygonatum cyrtonema Hua to achieve the best effect, provide a reference basis for the development of quality standards, and at the same time promote the application of new therapeutic agents and health foods in raw and different steaming times of Polygonatum polysaccharide.\"\n        ],\n        \"semantic_type\": \"\",\n        \"description\": \"\"\n      }\n    },\n    {\n      \"column\": \"\\u041c\\u0435\\u0442\\u043a\\u0430\",\n      \"properties\": {\n        \"dtype\": \"number\",\n        \"std\": 4,\n        \"min\": 0,\n        \"max\": 8,\n        \"num_unique_values\": 2,\n        \"samples\": [\n          0,\n          8\n        ],\n        \"semantic_type\": \"\",\n        \"description\": \"\"\n      }\n    },\n    {\n      \"column\": \"length\",\n      \"properties\": {\n        \"dtype\": \"number\",\n        \"std\": 81,\n        \"min\": 511,\n        \"max\": 685,\n        \"num_unique_values\": 4,\n        \"samples\": [\n          685,\n          674\n        ],\n        \"semantic_type\": \"\",\n        \"description\": \"\"\n      }\n    },\n    {\n      \"column\": \"text_split\",\n      \"properties\": {\n        \"dtype\": \"object\",\n        \"semantic_type\": \"\",\n        \"description\": \"\"\n      }\n    }\n  ]\n}"
            }
          },
          "metadata": {},
          "execution_count": 50
        }
      ],
      "source": [
        "df_more['text_split'] = df_more[DATA_COLUMN].apply(get_split)\n",
        "df_more"
      ]
    },
    {
      "cell_type": "code",
      "execution_count": null,
      "metadata": {
        "id": "XhPjYdpMr_pQ"
      },
      "outputs": [],
      "source": [
        "for i in df_more['text_split']:\n",
        "  if '' in i:\n",
        "    i.remove('')"
      ]
    },
    {
      "cell_type": "code",
      "execution_count": null,
      "metadata": {
        "id": "OrGlzRYOfNBY"
      },
      "outputs": [],
      "source": [
        "df_more.reset_index(drop=True, inplace=True)"
      ]
    },
    {
      "cell_type": "markdown",
      "source": [
        "Разбиение данных на три списка содержащих сами тектсы, метки и индексы каждого текста для обратного объединения сегментов текста"
      ],
      "metadata": {
        "id": "l3xhJYUaVaYk"
      }
    },
    {
      "cell_type": "code",
      "execution_count": null,
      "metadata": {
        "colab": {
          "base_uri": "https://localhost:8080/"
        },
        "id": "Om_10GgT0XXJ",
        "outputId": "35084869-1ba6-4506-d8c8-65eb13892d06"
      },
      "outputs": [
        {
          "output_type": "execute_result",
          "data": {
            "text/plain": [
              "(8, 8, 8)"
            ]
          },
          "metadata": {},
          "execution_count": 53
        }
      ],
      "source": [
        "test_l = []\n",
        "label_test_l = []\n",
        "index_test_l =[]\n",
        "for idx,row in df_more.iterrows():\n",
        "  for l in row['text_split']:\n",
        "    test_l.append(l)\n",
        "    label_test_l.append(row['Метка'])\n",
        "    index_test_l.append(idx)\n",
        "len(test_l), len(label_test_l), len(index_test_l)"
      ]
    },
    {
      "cell_type": "code",
      "execution_count": null,
      "metadata": {
        "id": "Mzn6GysL1avK"
      },
      "outputs": [],
      "source": [
        "test_df = pd.DataFrame({DATA_COLUMN:test_l, LABEL_COLUMN:label_test_l})"
      ]
    },
    {
      "cell_type": "code",
      "execution_count": null,
      "metadata": {
        "id": "-RommBZ11lUT"
      },
      "outputs": [],
      "source": [
        "corpus_test = test_df['Абстракт'].to_numpy()\n",
        "sample_labels_test = test_df['Метка'].to_numpy()"
      ]
    },
    {
      "cell_type": "code",
      "source": [
        "from torch.utils.data import TensorDataset, DataLoader, RandomSampler, SequentialSampler,random_split"
      ],
      "metadata": {
        "id": "diRicYsAj30G"
      },
      "execution_count": null,
      "outputs": []
    },
    {
      "cell_type": "markdown",
      "source": [
        "Токенизация текста. На выходе имеем два тензора с закондированными текстами и маской, указывающей на наличие специального токена заполнения PAD"
      ],
      "metadata": {
        "id": "Q0yeho9fV5qj"
      }
    },
    {
      "cell_type": "code",
      "execution_count": null,
      "metadata": {
        "id": "MZuK236hUWxo",
        "colab": {
          "base_uri": "https://localhost:8080/"
        },
        "outputId": "fb2c1a22-6549-408d-cea7-255bfe848993"
      },
      "outputs": [
        {
          "output_type": "stream",
          "name": "stderr",
          "text": [
            "Truncation was not explicitly activated but `max_length` is provided a specific value, please use `truncation=True` to explicitly truncate examples to max length. Defaulting to 'longest_first' truncation strategy. If you encode pairs of sequences (GLUE-style) with the tokenizer you can select this strategy more precisely by providing a specific strategy to `truncation`.\n",
            "/usr/local/lib/python3.10/dist-packages/transformers/tokenization_utils_base.py:2619: FutureWarning: The `pad_to_max_length` argument is deprecated and will be removed in a future version, use `padding=True` or `padding='longest'` to pad to the longest sequence in the batch, or use `padding='max_length'` to pad to a max length. In this case, you can give a specific length with `max_length` (e.g. `max_length=45`) or leave max_length to None to pad to the maximal input size of the model (e.g. 512 for Bert).\n",
            "  warnings.warn(\n"
          ]
        }
      ],
      "source": [
        "test_input_ids = []\n",
        "test_attention_masks = []\n",
        "for tweet in corpus_test:\n",
        "    encoded_dict = tokenizer.encode_plus(\n",
        "                        tweet,\n",
        "                        add_special_tokens = True,\n",
        "                        max_length = 510,\n",
        "                        pad_to_max_length = True,\n",
        "                        return_attention_mask = True,\n",
        "                        return_tensors = 'pt',\n",
        "                   )\n",
        "    test_input_ids.append(encoded_dict['input_ids'])\n",
        "    test_attention_masks.append(encoded_dict['attention_mask'])\n",
        "test_input_ids = torch.cat(test_input_ids, dim=0)\n",
        "test_attention_masks = torch.cat(test_attention_masks, dim=0)"
      ]
    },
    {
      "cell_type": "markdown",
      "source": [
        "Для дальнейшей подачи данных в модель трансформера необходимо представить их в виде DataLoader"
      ],
      "metadata": {
        "id": "xrBM7PmlWH0q"
      }
    },
    {
      "cell_type": "code",
      "execution_count": null,
      "metadata": {
        "id": "iDor4aX8UWxo"
      },
      "outputs": [],
      "source": [
        "test_dataset = TensorDataset(test_input_ids, test_attention_masks)\n",
        "test_dataloader = DataLoader(\n",
        "            test_dataset,\n",
        "            sampler = SequentialSampler(test_dataset), # Берем батчи последовательно\n",
        "            batch_size = 3\n",
        "        )"
      ]
    },
    {
      "cell_type": "code",
      "execution_count": null,
      "metadata": {
        "id": "fPz858SkUWxo"
      },
      "outputs": [],
      "source": [
        "def mean_pooling(model_output, attention_mask):\n",
        "    token_embeddings = model_output[1][0]\n",
        "    input_mask_expanded = attention_mask.unsqueeze(-1).expand(token_embeddings.size()).float()\n",
        "    sum_embeddings = torch.sum(token_embeddings * input_mask_expanded, 1)\n",
        "    sum_mask = torch.clamp(input_mask_expanded.sum(1), min=1e-9)\n",
        "    return sum_embeddings / sum_mask"
      ]
    },
    {
      "cell_type": "markdown",
      "source": [
        "Выполнение предсказаний загруженной ранее моделью BERT"
      ],
      "metadata": {
        "id": "hMPO_TzqWWCU"
      }
    },
    {
      "cell_type": "code",
      "execution_count": null,
      "metadata": {
        "id": "exIumM5kUWxo"
      },
      "outputs": [],
      "source": [
        "predictions = []\n",
        "embeddings = torch.Tensor().to(device)\n",
        "for batch in test_dataloader:\n",
        "        b_input_ids = batch[0].to(device)\n",
        "        b_input_mask = batch[1].to(device)\n",
        "        with torch.no_grad():\n",
        "            output= model_bert(b_input_ids,\n",
        "                                   token_type_ids=None,\n",
        "                                   attention_mask=b_input_mask, output_hidden_states = True)\n",
        "            # print(output[1].shape)\n",
        "            embeddings = torch.cat([embeddings, mean_pooling(output, b_input_mask)])\n",
        "\n",
        "            logits = output.logits\n",
        "            logits = logits.detach().cpu().numpy()\n",
        "            pred_flat = np.argmax(logits, axis=1).flatten()\n",
        "\n",
        "            predictions.extend(list(pred_flat))\n",
        "embeddings = embeddings.cpu().numpy()"
      ]
    },
    {
      "cell_type": "code",
      "execution_count": null,
      "metadata": {
        "id": "GQqjk39IiWfS"
      },
      "outputs": [],
      "source": [
        "embeddings_test = embeddings"
      ]
    },
    {
      "cell_type": "code",
      "execution_count": null,
      "metadata": {
        "id": "jaJU4mECd9NS"
      },
      "outputs": [],
      "source": [
        "test_emb = embeddings_test"
      ]
    },
    {
      "cell_type": "markdown",
      "metadata": {
        "id": "8xIR96MCip9D"
      },
      "source": [
        "Объединяем сегменты текстов"
      ]
    },
    {
      "cell_type": "code",
      "execution_count": null,
      "metadata": {
        "id": "LZpCvsR9d1Xa",
        "colab": {
          "base_uri": "https://localhost:8080/"
        },
        "outputId": "3a6689a6-79f2-42a7-a3ed-c278528be652"
      },
      "outputs": [
        {
          "output_type": "execute_result",
          "data": {
            "text/plain": [
              "4"
            ]
          },
          "metadata": {},
          "execution_count": 64
        }
      ],
      "source": [
        "aux = -1\n",
        "len_l = 0\n",
        "test_x = {}\n",
        "for l, emb in zip(index_test_l, test_emb):\n",
        "  if l in test_x.keys():\n",
        "    test_x[l]  =np.vstack([test_x[l], emb])\n",
        "  else:\n",
        "    test_x[l] = [emb]\n",
        "\n",
        "len(test_x.keys())"
      ]
    },
    {
      "cell_type": "markdown",
      "source": [
        "Получаем полученные объединенные векторные представления от модели трансформера и соответствующие метки"
      ],
      "metadata": {
        "id": "itEnZ7CBWkYs"
      }
    },
    {
      "cell_type": "code",
      "execution_count": null,
      "metadata": {
        "id": "JWFPXd--d1Xe",
        "colab": {
          "base_uri": "https://localhost:8080/",
          "height": 175
        },
        "outputId": "a6853850-bab6-48b0-e15e-d9137d6c9f02"
      },
      "outputs": [
        {
          "output_type": "execute_result",
          "data": {
            "text/plain": [
              "                                                 emb  label\n",
              "0  [[-0.005423272, 0.09883099, 0.10688911, 0.0806...      8\n",
              "1  [[0.03969249, 0.088324286, 0.22027038, -0.0202...      0\n",
              "2  [[0.052948043, 0.1777511, 0.14543754, 0.072575...      0\n",
              "3  [[0.054888383, 0.074569985, 0.13509154, 0.0952...      0"
            ],
            "text/html": [
              "\n",
              "  <div id=\"df-2c1c1899-d0ac-4caa-a95d-c9e5f747d65b\" class=\"colab-df-container\">\n",
              "    <div>\n",
              "<style scoped>\n",
              "    .dataframe tbody tr th:only-of-type {\n",
              "        vertical-align: middle;\n",
              "    }\n",
              "\n",
              "    .dataframe tbody tr th {\n",
              "        vertical-align: top;\n",
              "    }\n",
              "\n",
              "    .dataframe thead th {\n",
              "        text-align: right;\n",
              "    }\n",
              "</style>\n",
              "<table border=\"1\" class=\"dataframe\">\n",
              "  <thead>\n",
              "    <tr style=\"text-align: right;\">\n",
              "      <th></th>\n",
              "      <th>emb</th>\n",
              "      <th>label</th>\n",
              "    </tr>\n",
              "  </thead>\n",
              "  <tbody>\n",
              "    <tr>\n",
              "      <th>0</th>\n",
              "      <td>[[-0.005423272, 0.09883099, 0.10688911, 0.0806...</td>\n",
              "      <td>8</td>\n",
              "    </tr>\n",
              "    <tr>\n",
              "      <th>1</th>\n",
              "      <td>[[0.03969249, 0.088324286, 0.22027038, -0.0202...</td>\n",
              "      <td>0</td>\n",
              "    </tr>\n",
              "    <tr>\n",
              "      <th>2</th>\n",
              "      <td>[[0.052948043, 0.1777511, 0.14543754, 0.072575...</td>\n",
              "      <td>0</td>\n",
              "    </tr>\n",
              "    <tr>\n",
              "      <th>3</th>\n",
              "      <td>[[0.054888383, 0.074569985, 0.13509154, 0.0952...</td>\n",
              "      <td>0</td>\n",
              "    </tr>\n",
              "  </tbody>\n",
              "</table>\n",
              "</div>\n",
              "    <div class=\"colab-df-buttons\">\n",
              "\n",
              "  <div class=\"colab-df-container\">\n",
              "    <button class=\"colab-df-convert\" onclick=\"convertToInteractive('df-2c1c1899-d0ac-4caa-a95d-c9e5f747d65b')\"\n",
              "            title=\"Convert this dataframe to an interactive table.\"\n",
              "            style=\"display:none;\">\n",
              "\n",
              "  <svg xmlns=\"http://www.w3.org/2000/svg\" height=\"24px\" viewBox=\"0 -960 960 960\">\n",
              "    <path d=\"M120-120v-720h720v720H120Zm60-500h600v-160H180v160Zm220 220h160v-160H400v160Zm0 220h160v-160H400v160ZM180-400h160v-160H180v160Zm440 0h160v-160H620v160ZM180-180h160v-160H180v160Zm440 0h160v-160H620v160Z\"/>\n",
              "  </svg>\n",
              "    </button>\n",
              "\n",
              "  <style>\n",
              "    .colab-df-container {\n",
              "      display:flex;\n",
              "      gap: 12px;\n",
              "    }\n",
              "\n",
              "    .colab-df-convert {\n",
              "      background-color: #E8F0FE;\n",
              "      border: none;\n",
              "      border-radius: 50%;\n",
              "      cursor: pointer;\n",
              "      display: none;\n",
              "      fill: #1967D2;\n",
              "      height: 32px;\n",
              "      padding: 0 0 0 0;\n",
              "      width: 32px;\n",
              "    }\n",
              "\n",
              "    .colab-df-convert:hover {\n",
              "      background-color: #E2EBFA;\n",
              "      box-shadow: 0px 1px 2px rgba(60, 64, 67, 0.3), 0px 1px 3px 1px rgba(60, 64, 67, 0.15);\n",
              "      fill: #174EA6;\n",
              "    }\n",
              "\n",
              "    .colab-df-buttons div {\n",
              "      margin-bottom: 4px;\n",
              "    }\n",
              "\n",
              "    [theme=dark] .colab-df-convert {\n",
              "      background-color: #3B4455;\n",
              "      fill: #D2E3FC;\n",
              "    }\n",
              "\n",
              "    [theme=dark] .colab-df-convert:hover {\n",
              "      background-color: #434B5C;\n",
              "      box-shadow: 0px 1px 3px 1px rgba(0, 0, 0, 0.15);\n",
              "      filter: drop-shadow(0px 1px 2px rgba(0, 0, 0, 0.3));\n",
              "      fill: #FFFFFF;\n",
              "    }\n",
              "  </style>\n",
              "\n",
              "    <script>\n",
              "      const buttonEl =\n",
              "        document.querySelector('#df-2c1c1899-d0ac-4caa-a95d-c9e5f747d65b button.colab-df-convert');\n",
              "      buttonEl.style.display =\n",
              "        google.colab.kernel.accessAllowed ? 'block' : 'none';\n",
              "\n",
              "      async function convertToInteractive(key) {\n",
              "        const element = document.querySelector('#df-2c1c1899-d0ac-4caa-a95d-c9e5f747d65b');\n",
              "        const dataTable =\n",
              "          await google.colab.kernel.invokeFunction('convertToInteractive',\n",
              "                                                    [key], {});\n",
              "        if (!dataTable) return;\n",
              "\n",
              "        const docLinkHtml = 'Like what you see? Visit the ' +\n",
              "          '<a target=\"_blank\" href=https://colab.research.google.com/notebooks/data_table.ipynb>data table notebook</a>'\n",
              "          + ' to learn more about interactive tables.';\n",
              "        element.innerHTML = '';\n",
              "        dataTable['output_type'] = 'display_data';\n",
              "        await google.colab.output.renderOutput(dataTable, element);\n",
              "        const docLink = document.createElement('div');\n",
              "        docLink.innerHTML = docLinkHtml;\n",
              "        element.appendChild(docLink);\n",
              "      }\n",
              "    </script>\n",
              "  </div>\n",
              "\n",
              "\n",
              "<div id=\"df-90f7bae6-10a4-40bd-9407-d80a17b8ab2c\">\n",
              "  <button class=\"colab-df-quickchart\" onclick=\"quickchart('df-90f7bae6-10a4-40bd-9407-d80a17b8ab2c')\"\n",
              "            title=\"Suggest charts\"\n",
              "            style=\"display:none;\">\n",
              "\n",
              "<svg xmlns=\"http://www.w3.org/2000/svg\" height=\"24px\"viewBox=\"0 0 24 24\"\n",
              "     width=\"24px\">\n",
              "    <g>\n",
              "        <path d=\"M19 3H5c-1.1 0-2 .9-2 2v14c0 1.1.9 2 2 2h14c1.1 0 2-.9 2-2V5c0-1.1-.9-2-2-2zM9 17H7v-7h2v7zm4 0h-2V7h2v10zm4 0h-2v-4h2v4z\"/>\n",
              "    </g>\n",
              "</svg>\n",
              "  </button>\n",
              "\n",
              "<style>\n",
              "  .colab-df-quickchart {\n",
              "      --bg-color: #E8F0FE;\n",
              "      --fill-color: #1967D2;\n",
              "      --hover-bg-color: #E2EBFA;\n",
              "      --hover-fill-color: #174EA6;\n",
              "      --disabled-fill-color: #AAA;\n",
              "      --disabled-bg-color: #DDD;\n",
              "  }\n",
              "\n",
              "  [theme=dark] .colab-df-quickchart {\n",
              "      --bg-color: #3B4455;\n",
              "      --fill-color: #D2E3FC;\n",
              "      --hover-bg-color: #434B5C;\n",
              "      --hover-fill-color: #FFFFFF;\n",
              "      --disabled-bg-color: #3B4455;\n",
              "      --disabled-fill-color: #666;\n",
              "  }\n",
              "\n",
              "  .colab-df-quickchart {\n",
              "    background-color: var(--bg-color);\n",
              "    border: none;\n",
              "    border-radius: 50%;\n",
              "    cursor: pointer;\n",
              "    display: none;\n",
              "    fill: var(--fill-color);\n",
              "    height: 32px;\n",
              "    padding: 0;\n",
              "    width: 32px;\n",
              "  }\n",
              "\n",
              "  .colab-df-quickchart:hover {\n",
              "    background-color: var(--hover-bg-color);\n",
              "    box-shadow: 0 1px 2px rgba(60, 64, 67, 0.3), 0 1px 3px 1px rgba(60, 64, 67, 0.15);\n",
              "    fill: var(--button-hover-fill-color);\n",
              "  }\n",
              "\n",
              "  .colab-df-quickchart-complete:disabled,\n",
              "  .colab-df-quickchart-complete:disabled:hover {\n",
              "    background-color: var(--disabled-bg-color);\n",
              "    fill: var(--disabled-fill-color);\n",
              "    box-shadow: none;\n",
              "  }\n",
              "\n",
              "  .colab-df-spinner {\n",
              "    border: 2px solid var(--fill-color);\n",
              "    border-color: transparent;\n",
              "    border-bottom-color: var(--fill-color);\n",
              "    animation:\n",
              "      spin 1s steps(1) infinite;\n",
              "  }\n",
              "\n",
              "  @keyframes spin {\n",
              "    0% {\n",
              "      border-color: transparent;\n",
              "      border-bottom-color: var(--fill-color);\n",
              "      border-left-color: var(--fill-color);\n",
              "    }\n",
              "    20% {\n",
              "      border-color: transparent;\n",
              "      border-left-color: var(--fill-color);\n",
              "      border-top-color: var(--fill-color);\n",
              "    }\n",
              "    30% {\n",
              "      border-color: transparent;\n",
              "      border-left-color: var(--fill-color);\n",
              "      border-top-color: var(--fill-color);\n",
              "      border-right-color: var(--fill-color);\n",
              "    }\n",
              "    40% {\n",
              "      border-color: transparent;\n",
              "      border-right-color: var(--fill-color);\n",
              "      border-top-color: var(--fill-color);\n",
              "    }\n",
              "    60% {\n",
              "      border-color: transparent;\n",
              "      border-right-color: var(--fill-color);\n",
              "    }\n",
              "    80% {\n",
              "      border-color: transparent;\n",
              "      border-right-color: var(--fill-color);\n",
              "      border-bottom-color: var(--fill-color);\n",
              "    }\n",
              "    90% {\n",
              "      border-color: transparent;\n",
              "      border-bottom-color: var(--fill-color);\n",
              "    }\n",
              "  }\n",
              "</style>\n",
              "\n",
              "  <script>\n",
              "    async function quickchart(key) {\n",
              "      const quickchartButtonEl =\n",
              "        document.querySelector('#' + key + ' button');\n",
              "      quickchartButtonEl.disabled = true;  // To prevent multiple clicks.\n",
              "      quickchartButtonEl.classList.add('colab-df-spinner');\n",
              "      try {\n",
              "        const charts = await google.colab.kernel.invokeFunction(\n",
              "            'suggestCharts', [key], {});\n",
              "      } catch (error) {\n",
              "        console.error('Error during call to suggestCharts:', error);\n",
              "      }\n",
              "      quickchartButtonEl.classList.remove('colab-df-spinner');\n",
              "      quickchartButtonEl.classList.add('colab-df-quickchart-complete');\n",
              "    }\n",
              "    (() => {\n",
              "      let quickchartButtonEl =\n",
              "        document.querySelector('#df-90f7bae6-10a4-40bd-9407-d80a17b8ab2c button');\n",
              "      quickchartButtonEl.style.display =\n",
              "        google.colab.kernel.accessAllowed ? 'block' : 'none';\n",
              "    })();\n",
              "  </script>\n",
              "</div>\n",
              "    </div>\n",
              "  </div>\n"
            ],
            "application/vnd.google.colaboratory.intrinsic+json": {
              "type": "dataframe",
              "variable_name": "df_test_true",
              "summary": "{\n  \"name\": \"df_test_true\",\n  \"rows\": 4,\n  \"fields\": [\n    {\n      \"column\": \"emb\",\n      \"properties\": {\n        \"dtype\": \"object\",\n        \"semantic_type\": \"\",\n        \"description\": \"\"\n      }\n    },\n    {\n      \"column\": \"label\",\n      \"properties\": {\n        \"dtype\": \"number\",\n        \"std\": 4,\n        \"min\": 0,\n        \"max\": 8,\n        \"num_unique_values\": 2,\n        \"samples\": [\n          0,\n          8\n        ],\n        \"semantic_type\": \"\",\n        \"description\": \"\"\n      }\n    }\n  ]\n}"
            }
          },
          "metadata": {},
          "execution_count": 65
        }
      ],
      "source": [
        "test_l_final = []\n",
        "label_test_l_final = []\n",
        "for k in test_x.keys():\n",
        "  test_l_final.append(test_x[k])\n",
        "  label_test_l_final.append(df_more.loc[k]['Метка'])\n",
        "\n",
        "df_test_true = pd.DataFrame({'emb': test_l_final, 'label': label_test_l_final, })\n",
        "df_test_true.head()"
      ]
    },
    {
      "cell_type": "markdown",
      "metadata": {
        "id": "SFbHa8EbjQer"
      },
      "source": [
        "### Классификация"
      ]
    },
    {
      "cell_type": "code",
      "execution_count": null,
      "metadata": {
        "id": "dc2odjZugz0N"
      },
      "outputs": [],
      "source": [
        "test_emb  = df_test_true"
      ]
    },
    {
      "cell_type": "markdown",
      "source": [
        "Приведение эмбеддингов к одной длине"
      ],
      "metadata": {
        "id": "5IbkG_DHW5Dt"
      }
    },
    {
      "cell_type": "code",
      "execution_count": null,
      "metadata": {
        "id": "hWHztoQkTMoy"
      },
      "outputs": [],
      "source": [
        "def together(df):\n",
        "    df[\"length\"] = df['emb'].apply(lambda x : len(x))\n",
        "    max_lenght = 4\n",
        "\n",
        "    x_list= df['emb'].to_list()\n",
        "    y_list = df.label.to_list()\n",
        "\n",
        "    embs=[]\n",
        "    labels_y=[]\n",
        "\n",
        "    for i in range(len(x_list)):\n",
        "        x_train = np.full((768*max_lenght), -99.)\n",
        "        y_train = np.zeros((1))\n",
        "\n",
        "        if len(x_list[i])==1:\n",
        "            x_train[0:768] = x_list[i][0]\n",
        "            y_train = y_list[i]\n",
        "        else:\n",
        "            num=len(x_list[i])\n",
        "            x_train[0:768*num] = x_list[i].reshape(1, 768*num)\n",
        "            y_train = y_list[i]\n",
        "\n",
        "        embs.append(x_train)\n",
        "        labels_y.append(y_train)\n",
        "    return embs, labels_y"
      ]
    },
    {
      "cell_type": "code",
      "execution_count": null,
      "metadata": {
        "id": "HF1dzW_qEwsl"
      },
      "outputs": [],
      "source": [
        "embs, labels = together(test_emb)"
      ]
    },
    {
      "cell_type": "code",
      "execution_count": null,
      "metadata": {
        "id": "dT8frU8upne3"
      },
      "outputs": [],
      "source": [
        "embs = np.asarray(embs)"
      ]
    },
    {
      "cell_type": "code",
      "execution_count": null,
      "metadata": {
        "id": "-FNkFZXnsDqE"
      },
      "outputs": [],
      "source": [
        "labels = np.asarray(labels)"
      ]
    },
    {
      "cell_type": "code",
      "execution_count": null,
      "metadata": {
        "id": "RUHrBb--sbMH"
      },
      "outputs": [],
      "source": [
        "emb_new = np.expand_dims(embs, 1)"
      ]
    },
    {
      "cell_type": "markdown",
      "source": [
        "Создание маски для указание модели на специальный токен заполения (аналогично токенизатору модели BERT)"
      ],
      "metadata": {
        "id": "-zJe14KtXMO_"
      }
    },
    {
      "cell_type": "code",
      "execution_count": null,
      "metadata": {
        "id": "qMLZZuTFkqbb"
      },
      "outputs": [],
      "source": [
        "import torch\n",
        "import torch.nn as nn\n",
        "\n",
        "bert_embeddings = torch.tensor(emb_new)\n",
        "ignore_value_mask = (bert_embeddings != -99.)\n",
        "\n",
        "masked_bert_embeddings_test = bert_embeddings * ignore_value_mask.float()"
      ]
    },
    {
      "cell_type": "code",
      "execution_count": null,
      "metadata": {
        "id": "Stm1GO7hkqbb"
      },
      "outputs": [],
      "source": [
        "masked_bert_embeddings_test = np.asarray(masked_bert_embeddings_test)"
      ]
    },
    {
      "cell_type": "code",
      "execution_count": null,
      "metadata": {
        "id": "xwaEozsKdFE5",
        "colab": {
          "base_uri": "https://localhost:8080/"
        },
        "outputId": "a8aef87c-21f0-4896-a846-cdc9f338b6ae"
      },
      "outputs": [
        {
          "output_type": "stream",
          "name": "stdout",
          "text": [
            "1/1 [==============================] - 2s 2s/step\n"
          ]
        }
      ],
      "source": [
        "y_pred = model_lstm.predict(masked_bert_embeddings_test, batch_size=1000, verbose=1)\n",
        "y_pred_b = np.argmax(y_pred, axis=1)"
      ]
    },
    {
      "cell_type": "code",
      "source": [
        "df_more['Метка'] = y_pred_b"
      ],
      "metadata": {
        "id": "YYoEousszs0k"
      },
      "execution_count": null,
      "outputs": []
    },
    {
      "cell_type": "markdown",
      "source": [
        "Объединение результатов классификации двух блоков менее и более 512 токенов"
      ],
      "metadata": {
        "id": "OyzCszeBXcE8"
      }
    },
    {
      "cell_type": "code",
      "source": [
        "df_all = pd.concat([df_less, df_more])"
      ],
      "metadata": {
        "id": "FfjMURhbhlm_"
      },
      "execution_count": null,
      "outputs": []
    },
    {
      "cell_type": "code",
      "execution_count": null,
      "metadata": {
        "id": "j145YMnyexMd"
      },
      "outputs": [],
      "source": [
        "from sklearn.metrics import classification_report"
      ]
    },
    {
      "cell_type": "code",
      "source": [
        "\n",
        "report = classification_report(\n",
        "    df_all['True_label'],\n",
        "    df_all['Pred_label'],\n",
        "\n",
        ")\n",
        "print(report)"
      ],
      "metadata": {
        "id": "KWIDuDJpl3no",
        "colab": {
          "base_uri": "https://localhost:8080/"
        },
        "outputId": "5a34b2c9-eb2f-4a83-a2d5-50a7937be0fd"
      },
      "execution_count": null,
      "outputs": [
        {
          "output_type": "stream",
          "name": "stdout",
          "text": [
            "              precision    recall  f1-score   support\n",
            "\n",
            "           0       0.84      0.84      0.84       653\n",
            "           1       0.89      0.87      0.88       345\n",
            "           2       0.75      0.80      0.77       137\n",
            "           3       0.84      0.95      0.90       288\n",
            "           4       0.88      0.72      0.79       193\n",
            "           5       0.91      0.83      0.87       148\n",
            "           6       0.86      0.86      0.86      1231\n",
            "           7       0.91      0.85      0.88       136\n",
            "           8       0.76      0.81      0.78       354\n",
            "           9       0.84      0.84      0.84       310\n",
            "\n",
            "    accuracy                           0.85      3795\n",
            "   macro avg       0.85      0.84      0.84      3795\n",
            "weighted avg       0.85      0.85      0.85      3795\n",
            "\n"
          ]
        }
      ]
    },
    {
      "cell_type": "markdown",
      "source": [
        "### Соотношение меток"
      ],
      "metadata": {
        "id": "6dAunA0Aw7bj"
      }
    },
    {
      "cell_type": "code",
      "source": [
        "encoded_labels = df['Метка']"
      ],
      "metadata": {
        "id": "kHygph8zXqaK"
      },
      "execution_count": null,
      "outputs": []
    },
    {
      "cell_type": "code",
      "source": [
        "label_mapping = dict(zip(label_encoder.classes_, label_encoder.transform(label_encoder.classes_)))\n",
        "\n",
        "print(\"Соотношение реальных меток и новых меток:\")\n",
        "for label, encoded_label in label_mapping.items():\n",
        "    print(f\"{label}: {encoded_label}\")\n"
      ],
      "metadata": {
        "colab": {
          "base_uri": "https://localhost:8080/"
        },
        "id": "7YrkDXYIWd7q",
        "outputId": "f7466e90-12d5-49d8-e78d-f06d1037b695"
      },
      "execution_count": null,
      "outputs": [
        {
          "output_type": "stream",
          "name": "stdout",
          "text": [
            "Соотношение реальных меток и новых меток:\n",
            "cancer: 0\n",
            "immunity: 1\n",
            "immunodeficiency: 2\n",
            "inflammation: 3\n",
            "rheumatoid arthritis: 4\n",
            "sepsis: 5\n",
            "systemic lupus erythematosus: 6\n",
            "tuberculosis: 7\n"
          ]
        }
      ]
    },
    {
      "cell_type": "code",
      "source": [],
      "metadata": {
        "id": "UNpsc6QlrS4S"
      },
      "execution_count": null,
      "outputs": []
    },
    {
      "cell_type": "code",
      "source": [],
      "metadata": {
        "id": "Qeo_u7Ubk_DN"
      },
      "execution_count": null,
      "outputs": []
    }
  ]
}
